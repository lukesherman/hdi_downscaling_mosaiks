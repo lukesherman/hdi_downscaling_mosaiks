{
 "cells": [
  {
   "cell_type": "code",
   "execution_count": 2,
   "metadata": {},
   "outputs": [],
   "source": [
    "import os\n",
    "repo_dir = os.environ.get(\"REPO_DIR\")\n",
    "code_dir = os.path.join(repo_dir, \"code/\")\n",
    "data_dir = os.path.join(repo_dir, \"data/\")\n",
    "os.chdir(code_dir)\n",
    "\n",
    "import matplotlib.pyplot as plt\n",
    "import numpy as np\n",
    "import pickle\n",
    "import pandas as pd\n",
    "import geopandas as gpd\n",
    "import shapely\n",
    "import fiona\n",
    "\n",
    "from affine import Affine\n",
    "\n",
    "import pandas as pd\n",
    "import rasterio\n",
    "import rasterio.mask\n",
    "from rasterio import warp\n",
    "\n",
    "import warnings\n",
    "\n",
    "from nl_helpers import (apply_polygon_mask_and_return_flat_array, \n",
    "                        correct_nl_df_creation, bins,create_nl_binned_dataframe)"
   ]
  },
  {
   "cell_type": "markdown",
   "metadata": {},
   "source": [
    "## Creation of Pop-weighted NL features for ADM1, ADM2, and DHS Cluster Polygons"
   ]
  },
  {
   "cell_type": "markdown",
   "metadata": {},
   "source": [
    "NL Data: https://ngdc.noaa.gov/eog/dmsp/downloadV4composites.html\n",
    "\n",
    "We are going to use `Average Visible, Stable Lights, & Cloud Free Coverages` for the most recent year, 2013. \n",
    "\n",
    "The download URL is here: `https://ngdc.noaa.gov/eog/data/web_data/v4composites/F182013.v4.tar`\n",
    "\n",
    "### README information:\n",
    "Version 4 DMSP-OLS Nighttime Lights Time Series\n",
    "\n",
    "    The files are cloud-free composites made using all the available\n",
    "    archived DMSP-OLS smooth resolution data for calendar years. In cases\n",
    "    where two satellites were collecting data - two composites were produced.\n",
    "    The products are 30 arc second grids, spanning -180 to 180 degrees\n",
    "    longitude and -65 to 75 degrees latitude. A number of constraints are\n",
    "    used to select the highest quality data for entry into the composites:\n",
    "\n",
    "      * Data are from the center half of the 3000 km wide OLS swaths.\n",
    "        Lights in the center half have better geolocation, are smaller,\n",
    "        and have more consistent radiometry.\n",
    "\n",
    "      * Sunlit data are excluded based on the solar elevation angle.\n",
    "\n",
    "      * Glare is excluded based on solar elevation angle.\n",
    "\n",
    "      * Moonlit data are excluded based on a calculation of lunar\n",
    "        illuminance.\n",
    "\n",
    "      * Observations with clouds are excluded based on clouds\n",
    "        identified with the OLS thermal band data and NCEP surface\n",
    "        temperature grids.\n",
    "        \n",
    "      * Lighting features from the aurora have been excluded in the\n",
    "        northern hemisphere on an orbit-by-orbit manner using visual\n",
    "        inspection.\n",
    "\n",
    "    Each composite set is named with the satellite and the year (F121995 is\n",
    "    from DMSP satellite number F12 for the year 1995). Three image types are\n",
    "    available as geotiffs for download from the version 4 composites:\n",
    "\n",
    "\n",
    "    F1?YYYY_v4b_cf_cvg.tif: Cloud-free coverages tally the total\n",
    "    number of observations that went into each 30 arc second grid cell. This\n",
    "    image can be used to identify areas with low numbers of observations\n",
    "    where the quality is reduced. In some years there are areas with zero\n",
    "    cloud- free observations in certain locations.\n",
    "\n",
    "\n",
    "    F1?YYYY_v4b_avg_vis.tif: Raw avg_vis contains the average of the\n",
    "    visible band digital number values with no further filtering. Data\n",
    "    values range from 0-63. Areas with zero cloud-free observations are\n",
    "    represented by the value 255.\n",
    "\n",
    "\n",
    "    F1?YYYY_v4b_stable_lights.avg_vis.tif: The cleaned up avg_vis\n",
    "    contains the lights from cities, towns, and other sites with persistent\n",
    "    lighting, including gas flares. Ephemeral events, such as fires have\n",
    "    been discarded. Then the background noise was identified and replaced\n",
    "    with values of zero. Data values range from 1-63. Areas with zero\n",
    "    cloud-free observations are represented by the value 255.\n",
    "    \n",
    "    NOTE:  The OLS has no on-board calibration and the gain settings are not\n",
    "    recorded in the data stream.  While the time-series of annual cloud-free\n",
    "    composites were produced using the same algorithms and a stringent data\n",
    "    selection criteria, the digital number (DN) values are not strictly\n",
    "    comparable from one year to the next.  We recommend users perform an\n",
    "    intercalibration prior to direct comparison of the DN values across the\n",
    "    time series.  For discussion on these points contact chris.elvidge@noaa.gov.\n",
    "\n",
    "\n",
    "We will use the more heavily processed stable nights product\n",
    "\n",
    "***\n",
    "\n",
    "We will also use Gridded Population of the World population density data for the year 2015. Specifically, we use GPW V4 revision 10. A new version has since been released, but we use the version available at the start of this research project. \n",
    "\n"
   ]
  },
  {
   "cell_type": "markdown",
   "metadata": {},
   "source": [
    "### Read raw nl raster\n",
    "Data downloaded from link above"
   ]
  },
  {
   "cell_type": "code",
   "execution_count": 1,
   "metadata": {},
   "outputs": [],
   "source": [
    "directory = data_dir + \"raw/DMSP_NL/\"\n",
    "file = \"F182013.v4c_web.stable_lights.avg_vis.tif\"\n",
    "\n",
    "src = rasterio.open(directory+file)\n",
    "\n",
    "arr = src.read(1)\n",
    "arr = arr.astype(np.float64)"
   ]
  },
  {
   "cell_type": "markdown",
   "metadata": {},
   "source": [
    "### First, we clean and align the NL and GPW raster files"
   ]
  },
  {
   "cell_type": "code",
   "execution_count": null,
   "metadata": {},
   "outputs": [],
   "source": [
    "pop_raster_path = data_dir + raw/GPW_pop_density/gpw_v4_population_density_rev10_2015_30_sec.tif\"\n",
    "pop_raster = rasterio.open(pop_raster_path)\n",
    "pop_arr = pop_raster.read(1)\n",
    "\n",
    "# Assume min pop density value for all locations where pop density raster has no data\n",
    "## This is also done in the RCF aggregation pipeline\n",
    "min_data_value_of_pop_raster = pop_arr[pop_arr > 0].flatten().min()\n",
    "pop_arr[pop_arr < 0] = min_data_value_of_pop_raster"
   ]
  },
  {
   "cell_type": "markdown",
   "metadata": {},
   "source": [
    "### Inspect bounding boxes for both raster files"
   ]
  },
  {
   "cell_type": "code",
   "execution_count": null,
   "metadata": {},
   "outputs": [],
   "source": [
    "src.bounds"
   ]
  },
  {
   "cell_type": "code",
   "execution_count": null,
   "metadata": {
    "scrolled": true
   },
   "outputs": [],
   "source": [
    "pop_raster.bounds"
   ]
  },
  {
   "cell_type": "markdown",
   "metadata": {},
   "source": [
    "### We need to make this population raster align with our DMSP NL raster\n",
    "\n",
    "The population raster and the DMSP NL raster are at the same resolution, but their coverage area is a bit different in their min and max latitudes.\n",
    "\n",
    "In addition, the two rasters are 1/2 pixel shifted from one another."
   ]
  },
  {
   "cell_type": "markdown",
   "metadata": {},
   "source": [
    "#### As we make adjustments we will also adjust new bounding boxes"
   ]
  },
  {
   "cell_type": "code",
   "execution_count": null,
   "metadata": {},
   "outputs": [],
   "source": [
    "pop_raster_new_bounds = list(pop_raster.bounds)\n",
    "src_new_bounds = list(src.bounds)"
   ]
  },
  {
   "cell_type": "markdown",
   "metadata": {},
   "source": [
    "#### Begin by dropping from the top and addiing to the bottom so that pop raster has same height as nl raster"
   ]
  },
  {
   "cell_type": "code",
   "execution_count": null,
   "metadata": {},
   "outputs": [],
   "source": [
    "min_lon_of_pop_raster = pop_raster.bounds.bottom\n",
    "print(f\"Min longitude of pop raster =\", min_lon_of_pop_raster ) "
   ]
  },
  {
   "cell_type": "code",
   "execution_count": null,
   "metadata": {},
   "outputs": [],
   "source": [
    "new_max_lon = src.bounds.top\n",
    "\n",
    "num_pixels_to_drop_from_top = ( pop_raster.bounds.top - new_max_lon ) / pop_raster.meta[\"transform\"][0]\n",
    "num_pixels_to_drop_from_top = int(np.floor(num_pixels_to_drop_from_top) )\n",
    "\n",
    "#With the floor function, we keep an extra 1/2 half pixel compared to the DMSP data."
   ]
  },
  {
   "cell_type": "code",
   "execution_count": null,
   "metadata": {},
   "outputs": [],
   "source": [
    "# keep track of the new upper bound on the raster\n",
    "pop_raster_new_bounds[3] -= pop_raster.meta[\"transform\"][0] * num_pixels_to_drop_from_top\n"
   ]
  },
  {
   "cell_type": "code",
   "execution_count": null,
   "metadata": {},
   "outputs": [],
   "source": [
    "pop_arr_crop = pop_arr[num_pixels_to_drop_from_top:, :]\n",
    "min_lon_of_nl_raster = src.bounds.bottom"
   ]
  },
  {
   "cell_type": "code",
   "execution_count": null,
   "metadata": {},
   "outputs": [],
   "source": [
    "num_of_zero_pixels_to_add = int(np.floor((min_lon_of_pop_raster - min_lon_of_nl_raster)/pop_raster.meta[\"transform\"][0]))\n",
    "#With the floor function, we a 1/2 half pixel short compared to the DMSP data.\n"
   ]
  },
  {
   "cell_type": "code",
   "execution_count": null,
   "metadata": {},
   "outputs": [],
   "source": [
    "#Assume min pop density value for all locations missing from the pop raster data\n",
    "zeros_to_stack_below = np.full((num_of_zero_pixels_to_add, pop_raster.meta[\"width\"]), min_data_value_of_pop_raster)\n",
    "pop_arr_filled = np.vstack([pop_arr_crop,zeros_to_stack_below])\n",
    "\n",
    "# keep track of the new lower bound on the raster\n",
    "pop_raster_new_bounds[1] += - num_of_zero_pixels_to_add * pop_raster.meta[\"transform\"][0]"
   ]
  },
  {
   "cell_type": "markdown",
   "metadata": {},
   "source": [
    "### Deal with longitudinal shift\n",
    "Now we have to deal with the fact that the DMSP raster has one extra pixel in the longitudinal directon. We're just going to drop one pixel and adjust the bounds.\n",
    "\n",
    "The interpretation here is that we're just shifting the raster by 1/2 pixel in each direction. This is not ideal, but is a close approximation, especially considering how crude the GPW population data are."
   ]
  },
  {
   "cell_type": "code",
   "execution_count": null,
   "metadata": {},
   "outputs": [],
   "source": [
    "#Implement the longitude shift -- nl will shift one pixel to the right\n",
    "arr_crop = arr[:,1:]\n",
    "\n",
    "# Keep track of changing bounds on the nl raster also\n",
    "src_new_bounds[0] -=  src.transform[4]"
   ]
  },
  {
   "cell_type": "code",
   "execution_count": null,
   "metadata": {},
   "outputs": [],
   "source": [
    "assert pop_arr_filled.shape == arr_crop.shape"
   ]
  },
  {
   "cell_type": "markdown",
   "metadata": {},
   "source": [
    "### Inspect new bounds"
   ]
  },
  {
   "cell_type": "code",
   "execution_count": null,
   "metadata": {},
   "outputs": [],
   "source": [
    "src_new_bounds"
   ]
  },
  {
   "cell_type": "code",
   "execution_count": null,
   "metadata": {},
   "outputs": [],
   "source": [
    "pop_raster_new_bounds"
   ]
  },
  {
   "cell_type": "markdown",
   "metadata": {},
   "source": [
    "We can see below that the difference between the bounds is now 1/2 a pixel in each direction. This is good as we can get without upsampling the data.\n",
    "\n",
    "We have shifted the population raster 1/2 pixel to the right and 1/2 pixel upward relative to the NL raster. This is approximately 0.45 km at the equator."
   ]
  },
  {
   "cell_type": "code",
   "execution_count": null,
   "metadata": {},
   "outputs": [],
   "source": [
    "np.array(src_new_bounds) - np.array(pop_raster_new_bounds)"
   ]
  },
  {
   "cell_type": "markdown",
   "metadata": {},
   "source": [
    "## Write new intermediate raster files"
   ]
  },
  {
   "cell_type": "code",
   "execution_count": null,
   "metadata": {},
   "outputs": [],
   "source": [
    "pop_arr_filled = pop_arr_filled.astype(np.float64)\n",
    "out_meta = pop_raster.meta.copy()"
   ]
  },
  {
   "cell_type": "code",
   "execution_count": null,
   "metadata": {},
   "outputs": [],
   "source": [
    "out_meta = pop_raster.meta.copy()"
   ]
  },
  {
   "cell_type": "code",
   "execution_count": null,
   "metadata": {},
   "outputs": [],
   "source": [
    "#Custom set affine. This is the same as the pop_raster affine, except that the max lon is now different\n",
    "out_transform = Affine(out_meta[\"transform\"][0],\n",
    "                       0.0, \n",
    "                       src_new_bounds[0], \n",
    "                       0.0, \n",
    "                       out_meta[\"transform\"][4],\n",
    "                       src_new_bounds[3]\n",
    "                      )"
   ]
  },
  {
   "cell_type": "code",
   "execution_count": null,
   "metadata": {},
   "outputs": [],
   "source": [
    "out_meta[\"transform\"] = out_transform\n",
    "out_meta[\"height\"] = pop_arr_filled.shape[0]\n",
    "out_meta[\"dtype\"] = np.float64\n",
    "_ = out_meta.pop(\"nodata\")\n",
    "\n",
    "assert out_meta[\"width\"] == pop_arr_filled.shape[1]"
   ]
  },
  {
   "cell_type": "code",
   "execution_count": null,
   "metadata": {
    "scrolled": true
   },
   "outputs": [],
   "source": [
    "plt.imshow(np.log(arr_crop+1))"
   ]
  },
  {
   "cell_type": "code",
   "execution_count": null,
   "metadata": {},
   "outputs": [],
   "source": [
    "plt.imshow(np.log(pop_arr_filled))"
   ]
  },
  {
   "cell_type": "markdown",
   "metadata": {},
   "source": [
    "### Write intermediate raster files so that fast polygon window functionality works"
   ]
  },
  {
   "cell_type": "code",
   "execution_count": 2,
   "metadata": {},
   "outputs": [],
   "source": [
    "dmsp_adj_to_pop_outpath = (data_dir + \"int/DMSP_NL/\"\n",
    "           \"DMSP_F182013.v4c_web.stable_lights.avg_vis_shifted_to_match_pop_raster.tif\")\n",
    "\n",
    "# with rasterio.open(dmsp_adj_to_pop_outpath , \"w\", **out_meta) as dest:\n",
    "#     dest.write(np.array([arr_crop]))"
   ]
  },
  {
   "cell_type": "code",
   "execution_count": 3,
   "metadata": {},
   "outputs": [],
   "source": [
    "pop_adj_to_nl_outpath = (data_dir + \"int/GPW_pop/\"\n",
    "           \"gpw_v4_population_density_rev10_2015_30_sec_shifted_to_match_DMSP.tif\")\n",
    "\n",
    "# with rasterio.open(pop_adj_to_nl_outpath , \"w\", **out_meta) as dest:\n",
    "#     dest.write(np.array([pop_arr_filled]))\n",
    "    "
   ]
  },
  {
   "cell_type": "markdown",
   "metadata": {},
   "source": [
    "## Get ADM1 NL values with weights (GDL shapefile)"
   ]
  },
  {
   "cell_type": "code",
   "execution_count": 4,
   "metadata": {},
   "outputs": [],
   "source": [
    "nl_adj = rasterio.open(dmsp_adj_to_pop_outpath)\n",
    "pop_adj = rasterio.open(pop_adj_to_nl_outpath)"
   ]
  },
  {
   "cell_type": "code",
   "execution_count": 5,
   "metadata": {},
   "outputs": [],
   "source": [
    "gpdf = pd.read_pickle(data_dir + \"int/GDL_HDI/HDI_ADM1_shapefile_clean.p\")"
   ]
  },
  {
   "cell_type": "code",
   "execution_count": 6,
   "metadata": {
    "scrolled": true
   },
   "outputs": [
    {
     "name": "stdout",
     "output_type": "stream",
     "text": [
      "Num missing =  0\n"
     ]
    }
   ],
   "source": [
    "out = create_nl_binned_dataframe(gpdf,raster_file=nl_adj, weight_raster =pop_adj)\n",
    "out = correct_nl_df_creation(out, gpdf, nl_adj) #Weights are needed since we are looking at a single pixel\n",
    "\n",
    "out.to_pickle(data_dir + \"features/nl_features/GDL_HDI_polygons/dmsp_nightlight_features_for_hdi_polygons_20_bins_GPW_pop_weighted.p\")\n"
   ]
  },
  {
   "cell_type": "markdown",
   "metadata": {},
   "source": [
    "## Get ADM0 NL values with weights (GDL shapefile, dissolved)"
   ]
  },
  {
   "cell_type": "code",
   "execution_count": 7,
   "metadata": {},
   "outputs": [],
   "source": [
    "country_path = data_dir + \"int/GDL_HDI/HDI_ADM0_dissolved_shapefile.p\"\n",
    "\n",
    "### This file is created in the label processing notebook `HDI_label_creation.ipynb`"
   ]
  },
  {
   "cell_type": "code",
   "execution_count": 8,
   "metadata": {},
   "outputs": [],
   "source": [
    "country_shps = pd.read_pickle(country_path)"
   ]
  },
  {
   "cell_type": "code",
   "execution_count": 9,
   "metadata": {},
   "outputs": [],
   "source": [
    "out = create_nl_binned_dataframe(country_shps, bins=bins,raster_file=nl_adj, weight_raster =pop_adj)\n",
    "out.to_pickle(data_dir + \"features/nl_features/GDL_ADM0_polygons/dmsp_nightlight_features_for_adm0_polygons_20_bins_GPW_pop_weighted.p\")\n"
   ]
  },
  {
   "cell_type": "markdown",
   "metadata": {},
   "source": [
    "## Get ADM2 NL values with weights"
   ]
  },
  {
   "cell_type": "code",
   "execution_count": 10,
   "metadata": {},
   "outputs": [],
   "source": [
    "file = data_dir + \"raw/geoBoundaries/geoBoundariesCGAZ_ADM2.geojson\"\n",
    "adm2 = gpd.read_file(file).set_index(\"shapeID\")"
   ]
  },
  {
   "cell_type": "code",
   "execution_count": 11,
   "metadata": {},
   "outputs": [
    {
     "name": "stderr",
     "output_type": "stream",
     "text": [
      "/home/lsherman/code_luke/Maps100/code/analysis/undp/nl_processing_and_feature_creation/nl_helpers.py:112: RuntimeWarning: invalid value encountered in true_divide\n",
      "  perc_in_each_bin = d[0]/w.sum()\n"
     ]
    },
    {
     "name": "stdout",
     "output_type": "stream",
     "text": [
      "Num missing =  7058\n"
     ]
    }
   ],
   "source": [
    "out = create_nl_binned_dataframe(adm2, bins=bins,raster_file=nl_adj, weight_raster =pop_adj)\n",
    "out = correct_nl_df_creation(out, adm2,bins=bins,raster_file=nl_adj,)\n",
    "\n",
    "assert out.isnull().sum().sum() == 0\n",
    "\n",
    "out.to_pickle(data_dir + \"features/nl_features/geoBoundaries_ADM2/dmsp_nightlight_features_for_geoboundaries_ADM2_polygons_20_bins_GPW_pop_weighted.p\")\n"
   ]
  },
  {
   "cell_type": "markdown",
   "metadata": {},
   "source": [
    "## Get DHS cluster NL values with weights"
   ]
  },
  {
   "cell_type": "code",
   "execution_count": 5,
   "metadata": {},
   "outputs": [],
   "source": [
    "dhs_shp = pd.read_pickle(data_dir+\"int/GDL_IWI/DHS_iwi_cluster_buffers_clipped.p\").set_index(\"DHSID\")"
   ]
  },
  {
   "cell_type": "code",
   "execution_count": 13,
   "metadata": {},
   "outputs": [],
   "source": [
    "#dhs_shp.to_crs({'init': 'epsg:6933'})[\"geometry\"].area.mean()/1e6"
   ]
  },
  {
   "cell_type": "code",
   "execution_count": 14,
   "metadata": {},
   "outputs": [
    {
     "name": "stderr",
     "output_type": "stream",
     "text": [
      "/home/lsherman/code_luke/Maps100/code/analysis/undp/nl_processing_and_feature_creation/nl_helpers.py:112: RuntimeWarning: invalid value encountered in true_divide\n",
      "  perc_in_each_bin = d[0]/w.sum()\n"
     ]
    },
    {
     "name": "stdout",
     "output_type": "stream",
     "text": [
      "Num missing =  5\n"
     ]
    }
   ],
   "source": [
    "out = create_nl_binned_dataframe(dhs_shp, bins=bins,raster_file=nl_adj, weight_raster =pop_adj)\n",
    "out = correct_nl_df_creation(out, dhs_shp,bins=bins,raster_file=nl_adj,)\n",
    "\n",
    "assert out.isnull().sum().sum() == 0\n",
    "\n",
    "out.to_pickle(data_dir + \"features/nl_features/DHS_polygons/ddmsp_nightlight_features_for_iwi_polygons_20_bins_GPW_pop_weighted.p\")\n"
   ]
  },
  {
   "cell_type": "code",
   "execution_count": null,
   "metadata": {},
   "outputs": [],
   "source": []
  }
 ],
 "metadata": {
  "kernelspec": {
   "display_name": "Python 3 (ipykernel)",
   "language": "python",
   "name": "python3"
  },
  "language_info": {
   "codemirror_mode": {
    "name": "ipython",
    "version": 3
   },
   "file_extension": ".py",
   "mimetype": "text/x-python",
   "name": "python",
   "nbconvert_exporter": "python",
   "pygments_lexer": "ipython3",
   "version": "3.7.15"
  }
 },
 "nbformat": 4,
 "nbformat_minor": 4
}
