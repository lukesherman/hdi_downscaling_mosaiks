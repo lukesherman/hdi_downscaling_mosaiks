{
 "cells": [
  {
   "cell_type": "code",
   "execution_count": 3,
   "metadata": {
    "scrolled": true
   },
   "outputs": [
    {
     "name": "stdout",
     "output_type": "stream",
     "text": [
      "env variable MOSAIKS_HOME not defined; setting to: \"/shares/maps100/code/code_LS/hdi_downscaling\"\n",
      "If not desired, please reset os.environ[\"MOSAIKS_NAME\"]\n"
     ]
    }
   ],
   "source": [
    "import os\n",
    "\n",
    "repo_dir = os.environ.get(\"REPO_DIR\")\n",
    "code_dir = os.path.join(repo_dir, \"code/\")\n",
    "data_dir = os.path.join(repo_dir, \"data/\")\n",
    "os.chdir(code_dir)\n",
    "\n",
    "import matplotlib.pyplot as plt\n",
    "import numpy as np\n",
    "import scipy.linalg\n",
    "from scipy.stats import spearmanr\n",
    "\n",
    "import pickle\n",
    "import pandas as pd\n",
    "import sklearn \n",
    "import sys\n",
    "import pandas as pd\n",
    "from importlib import reload\n",
    "import copy\n",
    "\n",
    "import warnings\n",
    "\n",
    "from sklearn.model_selection import KFold\n",
    "from sklearn.linear_model import Ridge\n",
    "import seaborn as sns\n",
    "\n",
    "from mosaiks.utils.imports import *\n",
    "\n",
    "# Key prediction functions are here\n",
    "from prediction_utils import predict_y_from_kfold_dict, generalized_demean, X_matrix_to_demeaned_X\n",
    "from prediction_utils import make_train_pred_scatterplot as make_scatterplot\n",
    "\n",
    "\n",
    "import geopandas as gpd\n",
    "import shapely"
   ]
  },
  {
   "cell_type": "markdown",
   "metadata": {},
   "source": [
    "## Subnational IWI Predictions\n",
    "\n",
    "Predict and evaluate IWI performance at the DHS Cluster level. Model is trained in the notebook called `hdi_and_iwi_model_training.ipynb`. IWI data at the DHS cluster level are not available publicly. The hierarchal linking of DHS clusters to GDL ADM1 polygons occurs in the notebook called `hierarchally_link_DHS_cluster_and_adm1.ipynb`."
   ]
  },
  {
   "cell_type": "markdown",
   "metadata": {},
   "source": [
    "## Read DHS cluster IWI data and geo link file"
   ]
  },
  {
   "cell_type": "code",
   "execution_count": 2,
   "metadata": {},
   "outputs": [],
   "source": [
    "link_df = pd.read_pickle(data_dir + \"/int/DHS_to_GDL_ADM1_link/dhsid_to_gdl_adm1_link.p\")\n",
    "\n",
    "iwi = pd.read_csv('/shares/maps100/data/undp/int/GDL_IWI/mean_IWI.csv').groupby(\"DHSID\").mean()"
   ]
  },
  {
   "cell_type": "markdown",
   "metadata": {},
   "source": [
    "## Read ADM1 IWI data"
   ]
  },
  {
   "cell_type": "markdown",
   "metadata": {},
   "source": [
    "We create a subnational and national dataframe of IWI. These IWI data are downloaded from the Global Data Lab for the year 2018 with 7 year nearest neighbor interpolation. "
   ]
  },
  {
   "cell_type": "code",
   "execution_count": 3,
   "metadata": {},
   "outputs": [],
   "source": [
    "path = ((\"/shares/maps100/data/raw/applications/HDI_Smits/\"\n",
    "        \"GDL-Mean-International-Wealth-Index-(IWI)-score-of-region-data.csv\"))\n",
    "df = pd.read_csv(path)"
   ]
  },
  {
   "cell_type": "code",
   "execution_count": 4,
   "metadata": {},
   "outputs": [],
   "source": [
    "subnat = df[df[\"Level\"] == \"Subnat\"]\n",
    "subnat = subnat.dropna().rename(columns= {\"2018\" : \"subnat IWI\"})"
   ]
  },
  {
   "cell_type": "code",
   "execution_count": 5,
   "metadata": {},
   "outputs": [],
   "source": [
    "nat = subnat.groupby(\"ISO_Code\")[\"subnat IWI\"].mean().rename(\"nat IWI\")"
   ]
  },
  {
   "cell_type": "code",
   "execution_count": 6,
   "metadata": {},
   "outputs": [],
   "source": [
    "subnat = subnat.set_index(\"GDLCODE\")[\"subnat IWI\"]"
   ]
  },
  {
   "cell_type": "markdown",
   "metadata": {},
   "source": [
    "## Step 2 - Evaluate cross country models at the DHS cluster level"
   ]
  },
  {
   "cell_type": "code",
   "execution_count": 7,
   "metadata": {},
   "outputs": [],
   "source": [
    "def dhs_pred_truth_to_metrics(preds, truth, nat=nat,link_df=link_df, subnat=subnat, write_path=None, \n",
    "                              demeaned_input=False, return_df=False, recenter_on = None, extra_clip=False):\n",
    "    \n",
    "    \"\"\"\n",
    "    Function to calculate all metrics for DHS level predictions\n",
    "    \n",
    "    For the demaned models, we may want to recenter. Recenter options are as follows:\n",
    "    \n",
    "    recenter_on = \"adm0\", \"adm1\", or \"adm1_ideal\"\n",
    "    adm0 - Add back the country mean for a demeaned model. (Mean of ADM1 obs, not the pop weighted country value)\n",
    "    adm1 - Force the mean of the DHS observations to match the ADM1 observed value for the parent polygon\n",
    "    \n",
    "    adm1_ideal -  calculate the mean of adm2_observations aggregated to the adm1 level. Ensure these match for the truth\n",
    "                    and the preds. We cannot do this in practice, because we imagine that we do not know the truth.\n",
    "    \n",
    "    \"\"\"\n",
    "    \n",
    "    df = pd.DataFrame([preds.rename(\"preds\"),truth.rename(\"truth\")]).T\n",
    "    \n",
    "    dhs_id_to_iso = link_df[[\"DHSID\",\"alpha-3\",\"GDL_adm1_parent\"]]\n",
    "    \n",
    "    df = df.merge(dhs_id_to_iso ,\"left\",left_index=True, right_on=\"DHSID\")\n",
    "    df = df.merge(nat, \"left\", left_on=\"alpha-3\", right_index=True)\n",
    "    df = df.merge(subnat, how=\"left\", left_on = \"GDL_adm1_parent\", right_index=True)\n",
    "    \n",
    "    ## If demeaned, the first step is to add back the mean of of the ADM1 observations aggregated to the country level\n",
    "    if demeaned_input:\n",
    "        df[\"truth\"] = df[\"truth\"] + df[\"nat IWI\"]\n",
    "    \n",
    "    #If we re-center preds on andmo\n",
    "    if recenter_on == \"adm0\" and demeaned_input:\n",
    "        df[\"preds\"] = df[\"preds\"] + df[\"nat IWI\"]\n",
    "        \n",
    "    elif recenter_on == \"adm0\":\n",
    "        raise NotImplementedError\n",
    "        \n",
    "    \n",
    "    # This extra clipping option will only effect the demeaned model. It ensures that after\n",
    "    # correction, there are not outliers outside the known min, max.\n",
    "    if extra_clip:\n",
    "        df[\"preds\"] = np.clip(df[\"preds\"], df[\"truth\"].min(), df[\"truth\"].max())\n",
    "    \n",
    "     \n",
    "    if recenter_on == \"adm1\":\n",
    "        ## Force the mean of the preds to match the observed ADM1 values\n",
    "        grouped_to_adm1 = df.groupby([\"GDL_adm1_parent\"]).mean()[[\"preds\"]].rename(columns = {\n",
    "        \"preds\":\"adm1_unweighted_mean_of_preds_from_dhs_obs\"})\n",
    "            \n",
    "        df = df.merge(grouped_to_adm1, \"left\", left_on=\"GDL_adm1_parent\", right_index=True)\n",
    "        \n",
    "        # difference between the observed ADM1 data and the preds aggregated to ADM1. \n",
    "        # we use this to re-center our preds\n",
    "        df[\"adm1_recentering_adj\"] = df[\"subnat IWI\"] - df[\"adm1_unweighted_mean_of_preds_from_dhs_obs\"]\n",
    "        \n",
    "        \n",
    "        df[\"preds\"] = df[\"adm1_recentering_adj\"] + df[\"preds\"]\n",
    "        df.drop(columns = [\"adm1_unweighted_mean_of_preds_from_dhs_obs\"],\n",
    "               inplace=True)\n",
    "        \n",
    "    \n",
    "    if recenter_on == \"adm1_ideal\":\n",
    "        ## Calculate the mean of DHS truth and preds aggreagated to the ADM1 level. Force these to match.\n",
    "        ## This does not effect within country and within adm1 performance much, since we already force them to be\n",
    "        ## mean 0\n",
    "        \n",
    "        grouped_to_adm1 = df.groupby([\"GDL_adm1_parent\"]).mean()[[\"truth\", \"preds\"]].rename(columns = {\n",
    "        \"preds\":\"adm1_unweighted_mean_of_preds_from_dhs_obs\",\"truth\": \"adm1_unweighted_mean_of_truth_from_dhs_obs\"})\n",
    "        df = df.merge(grouped_to_adm1, \"left\", left_on=\"GDL_adm1_parent\", right_index=True)\n",
    "        \n",
    "        df[\"adj_ideal\"] = df[\"adm1_unweighted_mean_of_truth_from_dhs_obs\"] - df[\"adm1_unweighted_mean_of_preds_from_dhs_obs\"]\n",
    "        df[\"preds\"] = df[\"adj_ideal\"] + df[\"preds\"]\n",
    "        \n",
    "        df.drop(columns = [\"adm1_unweighted_mean_of_truth_from_dhs_obs\",\"adm1_unweighted_mean_of_preds_from_dhs_obs\"],\n",
    "               inplace=True)\n",
    "        \n",
    "        \n",
    "    r2 = sklearn.metrics.r2_score(df[\"truth\"],df[\"preds\"])\n",
    "    pearson = np.corrcoef(df[\"truth\"],df[\"preds\"])[0,1] ** 2\n",
    "    spearman = spearmanr(df[\"truth\"],df[\"preds\"]).correlation\n",
    "    \n",
    "    #Aggregate DHS obs to ADM0\n",
    "    adm0_mean_dhs_obs = df.groupby(\"alpha-3\")[[\"truth\",\"preds\"]].mean().rename(columns={\n",
    "        \"truth\":\"adm0_unweighted_mean_of_truth_from_dhs_obs\",\"preds\":\"adm0_unweighted_mean_of_preds_from_dhs_obs\"})\n",
    "    df = df.merge(adm0_mean_dhs_obs, \"left\", left_on=\"alpha-3\", right_index=True)\n",
    "        \n",
    "    #Aggregate DHS obs to ADM1\n",
    "    grouped_to_adm1 = df.groupby([\"GDL_adm1_parent\"]).mean()[[\"truth\", \"preds\"]].rename(columns = {\n",
    "        \"preds\":\"adm1_unweighted_mean_of_preds_from_dhs_obs\",\"truth\": \"adm1_unweighted_mean_of_truth_from_dhs_obs\"})\n",
    "    df = df.merge(grouped_to_adm1, \"left\", left_on=\"GDL_adm1_parent\", right_index=True)\n",
    "    \n",
    "    \n",
    "    # Remove mean of DHS observatios for each country\n",
    "    # See NL super-res notebook for comments on this general procedure\n",
    "    \n",
    "    df[\"preds_demean_adm0\"] = df[\"preds\"] - df[\"adm0_unweighted_mean_of_preds_from_dhs_obs\"]\n",
    "    df[\"true_demean_adm0\"] = df[\"truth\"] - df[\"adm0_unweighted_mean_of_truth_from_dhs_obs\"]\n",
    "    \n",
    "    within_r2 = sklearn.metrics.r2_score(df[\"true_demean_adm0\"],df[\"preds_demean_adm0\"])\n",
    "    within_pearson = np.corrcoef(df[\"true_demean_adm0\"],df[\"preds_demean_adm0\"])[0,1]  ** 2\n",
    "    within_spearman = spearmanr(df[\"true_demean_adm0\"],df[\"preds_demean_adm0\"]).correlation\n",
    "    \n",
    "    \n",
    "    df[\"preds_demean_adm1\"] = df[\"preds\"] - df[\"adm1_unweighted_mean_of_preds_from_dhs_obs\"]\n",
    "    df[\"true_demean_adm1\"] = df[\"truth\"] - df[\"adm1_unweighted_mean_of_truth_from_dhs_obs\"]\n",
    "    \n",
    "    within_r2_adm1 = sklearn.metrics.r2_score(df[\"true_demean_adm1\"],df[\"preds_demean_adm1\"])\n",
    "    within_pearson_adm1 = np.corrcoef(df[\"true_demean_adm1\"],df[\"preds_demean_adm1\"])[0,1] ** 2\n",
    "    within_spearman_adm1 = spearmanr(df[\"true_demean_adm1\"],df[\"preds_demean_adm1\"]).correlation\n",
    "    \n",
    "    if write_path:\n",
    "        df.to_pickle(write_path)\n",
    "    \n",
    "    output_dict = {\"pearson\" : pearson, \"spearman\" : spearman, \"r2\" : r2, \n",
    "                   \"within_adm0_pearson\": within_pearson, \"within_adm0_spearman\": within_spearman, \"within_adm0_r2\":within_r2, \n",
    "                  \"within_adm1_pearson\": within_pearson_adm1, \"within_adm1_spearman\": within_spearman_adm1, \"within_adm1_r2\":within_r2_adm1, \n",
    "                  }\n",
    "    \n",
    "    # For demeaned performance metrics to be correct, demeaned truth vals MUST have mean zero\n",
    "    assert round(df[\"true_demean_adm1\"].mean(),6) ==0\n",
    "    assert round(df[\"true_demean_adm0\"].mean(),6) ==0\n",
    "    \n",
    "    assert round(df[\"preds_demean_adm1\"].mean(),6) ==0\n",
    "    assert round(df[\"preds_demean_adm0\"].mean(),6) ==0\n",
    "    \n",
    "    if return_df:\n",
    "        return df\n",
    "            \n",
    "    return output_dict\n",
    "        \n",
    "        "
   ]
  },
  {
   "cell_type": "code",
   "execution_count": 8,
   "metadata": {},
   "outputs": [],
   "source": [
    "dhs_rcf_X = pd.read_pickle( (data_dir + \"/features/mosaiks_features/\"\n",
    "                             \"DHS_DHS_dense_DHSID_pop_weight=True.p\") )\n",
    "                           \n",
    "dhs_nl_X = pd.read_pickle( (data_dir + \"/features/nl_features/DHS_polygons/\"\n",
    "                            \"dmsp_nightlight_features_for_iwi_polygons_20_bins_GPW_pop_weighted.p\") )\n",
    "                           \n",
    "task = \"iwi\"\n",
    "# task = \"Sub-national HDI\""
   ]
  },
  {
   "cell_type": "markdown",
   "metadata": {},
   "source": [
    "## Let's calculate missing data"
   ]
  },
  {
   "cell_type": "code",
   "execution_count": 9,
   "metadata": {},
   "outputs": [],
   "source": [
    "overlap_idxs = iwi.index[iwi.index.isin(dhs_rcf_X.index)]"
   ]
  },
  {
   "cell_type": "code",
   "execution_count": 10,
   "metadata": {},
   "outputs": [],
   "source": [
    "iwi_overlap = iwi.loc[overlap_idxs]"
   ]
  },
  {
   "cell_type": "code",
   "execution_count": 11,
   "metadata": {},
   "outputs": [
    {
     "name": "stdout",
     "output_type": "stream",
     "text": [
      "33 missing obs from saved DHS dense grid\n",
      "These observations DO NOT have planet data\n"
     ]
    }
   ],
   "source": [
    "n_not_in_grid = len(iwi) - len(iwi_overlap)\n",
    "\n",
    "print( n_not_in_grid, \"missing obs from saved DHS dense grid\")\n",
    "print(\"These observations DO NOT have planet data\")"
   ]
  },
  {
   "cell_type": "code",
   "execution_count": 12,
   "metadata": {},
   "outputs": [],
   "source": [
    "overlap_adm1 = iwi_overlap.index.isin(link_df[\"DHSID\"])"
   ]
  },
  {
   "cell_type": "code",
   "execution_count": 13,
   "metadata": {},
   "outputs": [],
   "source": [
    "iwi_overlap = iwi_overlap.loc[overlap_adm1 ]"
   ]
  },
  {
   "cell_type": "code",
   "execution_count": 14,
   "metadata": {},
   "outputs": [
    {
     "name": "stdout",
     "output_type": "stream",
     "text": [
      "1196 obs are dropped because they do not overlap any ADM1 region\n"
     ]
    }
   ],
   "source": [
    "n_without_adm1_overlap = len(iwi) - len(iwi_overlap) - n_not_in_grid\n",
    "\n",
    "print( n_without_adm1_overlap, \"obs are dropped because they do not overlap any ADM1 region\")"
   ]
  },
  {
   "cell_type": "code",
   "execution_count": 15,
   "metadata": {},
   "outputs": [],
   "source": [
    "dhs_rcf_X = dhs_rcf_X.loc[iwi_overlap.index]\n",
    "dhs_nl_X = dhs_nl_X.loc[iwi_overlap.index]"
   ]
  },
  {
   "cell_type": "code",
   "execution_count": 16,
   "metadata": {
    "scrolled": true
   },
   "outputs": [
    {
     "data": {
      "text/html": [
       "<div>\n",
       "<style scoped>\n",
       "    .dataframe tbody tr th:only-of-type {\n",
       "        vertical-align: middle;\n",
       "    }\n",
       "\n",
       "    .dataframe tbody tr th {\n",
       "        vertical-align: top;\n",
       "    }\n",
       "\n",
       "    .dataframe thead th {\n",
       "        text-align: right;\n",
       "    }\n",
       "</style>\n",
       "<table border=\"1\" class=\"dataframe\">\n",
       "  <thead>\n",
       "    <tr style=\"text-align: right;\">\n",
       "      <th></th>\n",
       "      <th>X_0</th>\n",
       "      <th>X_1</th>\n",
       "      <th>X_2</th>\n",
       "      <th>X_3</th>\n",
       "      <th>X_4</th>\n",
       "      <th>X_5</th>\n",
       "      <th>X_6</th>\n",
       "      <th>X_7</th>\n",
       "      <th>X_8</th>\n",
       "      <th>X_9</th>\n",
       "      <th>...</th>\n",
       "      <th>X_3990</th>\n",
       "      <th>X_3991</th>\n",
       "      <th>X_3992</th>\n",
       "      <th>X_3993</th>\n",
       "      <th>X_3994</th>\n",
       "      <th>X_3995</th>\n",
       "      <th>X_3996</th>\n",
       "      <th>X_3997</th>\n",
       "      <th>X_3998</th>\n",
       "      <th>X_3999</th>\n",
       "    </tr>\n",
       "    <tr>\n",
       "      <th>DHSID</th>\n",
       "      <th></th>\n",
       "      <th></th>\n",
       "      <th></th>\n",
       "      <th></th>\n",
       "      <th></th>\n",
       "      <th></th>\n",
       "      <th></th>\n",
       "      <th></th>\n",
       "      <th></th>\n",
       "      <th></th>\n",
       "      <th></th>\n",
       "      <th></th>\n",
       "      <th></th>\n",
       "      <th></th>\n",
       "      <th></th>\n",
       "      <th></th>\n",
       "      <th></th>\n",
       "      <th></th>\n",
       "      <th></th>\n",
       "      <th></th>\n",
       "      <th></th>\n",
       "    </tr>\n",
       "  </thead>\n",
       "  <tbody>\n",
       "    <tr>\n",
       "      <th>AL201700000001</th>\n",
       "      <td>0.263912</td>\n",
       "      <td>0.529834</td>\n",
       "      <td>0.120221</td>\n",
       "      <td>0.221756</td>\n",
       "      <td>0.378645</td>\n",
       "      <td>0.742076</td>\n",
       "      <td>0.220042</td>\n",
       "      <td>0.312819</td>\n",
       "      <td>0.143793</td>\n",
       "      <td>0.560435</td>\n",
       "      <td>...</td>\n",
       "      <td>0.439009</td>\n",
       "      <td>0.246906</td>\n",
       "      <td>0.802624</td>\n",
       "      <td>0.563975</td>\n",
       "      <td>0.351334</td>\n",
       "      <td>1.220489</td>\n",
       "      <td>2.117525</td>\n",
       "      <td>0.768354</td>\n",
       "      <td>0.652577</td>\n",
       "      <td>0.167308</td>\n",
       "    </tr>\n",
       "    <tr>\n",
       "      <th>AL201700000002</th>\n",
       "      <td>0.256797</td>\n",
       "      <td>0.502296</td>\n",
       "      <td>0.118349</td>\n",
       "      <td>0.188700</td>\n",
       "      <td>0.358811</td>\n",
       "      <td>0.778503</td>\n",
       "      <td>0.237806</td>\n",
       "      <td>0.321708</td>\n",
       "      <td>0.115251</td>\n",
       "      <td>0.558410</td>\n",
       "      <td>...</td>\n",
       "      <td>0.412139</td>\n",
       "      <td>0.236711</td>\n",
       "      <td>0.788731</td>\n",
       "      <td>0.555154</td>\n",
       "      <td>0.332123</td>\n",
       "      <td>1.188645</td>\n",
       "      <td>2.046447</td>\n",
       "      <td>0.769052</td>\n",
       "      <td>0.626322</td>\n",
       "      <td>0.166969</td>\n",
       "    </tr>\n",
       "    <tr>\n",
       "      <th>AL201700000003</th>\n",
       "      <td>0.277972</td>\n",
       "      <td>0.573552</td>\n",
       "      <td>0.125706</td>\n",
       "      <td>0.231508</td>\n",
       "      <td>0.412960</td>\n",
       "      <td>0.771762</td>\n",
       "      <td>0.210382</td>\n",
       "      <td>0.322703</td>\n",
       "      <td>0.146661</td>\n",
       "      <td>0.587726</td>\n",
       "      <td>...</td>\n",
       "      <td>0.488851</td>\n",
       "      <td>0.271301</td>\n",
       "      <td>0.918831</td>\n",
       "      <td>0.622778</td>\n",
       "      <td>0.398386</td>\n",
       "      <td>1.295117</td>\n",
       "      <td>2.351002</td>\n",
       "      <td>0.826812</td>\n",
       "      <td>0.701968</td>\n",
       "      <td>0.181992</td>\n",
       "    </tr>\n",
       "    <tr>\n",
       "      <th>AL201700000004</th>\n",
       "      <td>0.258856</td>\n",
       "      <td>0.511748</td>\n",
       "      <td>0.118132</td>\n",
       "      <td>0.204472</td>\n",
       "      <td>0.369289</td>\n",
       "      <td>0.754167</td>\n",
       "      <td>0.229083</td>\n",
       "      <td>0.316454</td>\n",
       "      <td>0.129066</td>\n",
       "      <td>0.553742</td>\n",
       "      <td>...</td>\n",
       "      <td>0.423077</td>\n",
       "      <td>0.240886</td>\n",
       "      <td>0.792644</td>\n",
       "      <td>0.561666</td>\n",
       "      <td>0.340954</td>\n",
       "      <td>1.198411</td>\n",
       "      <td>2.054426</td>\n",
       "      <td>0.764260</td>\n",
       "      <td>0.632968</td>\n",
       "      <td>0.167788</td>\n",
       "    </tr>\n",
       "    <tr>\n",
       "      <th>AL201700000005</th>\n",
       "      <td>0.263912</td>\n",
       "      <td>0.529834</td>\n",
       "      <td>0.120221</td>\n",
       "      <td>0.221756</td>\n",
       "      <td>0.378645</td>\n",
       "      <td>0.742076</td>\n",
       "      <td>0.220042</td>\n",
       "      <td>0.312819</td>\n",
       "      <td>0.143793</td>\n",
       "      <td>0.560435</td>\n",
       "      <td>...</td>\n",
       "      <td>0.439009</td>\n",
       "      <td>0.246906</td>\n",
       "      <td>0.802624</td>\n",
       "      <td>0.563975</td>\n",
       "      <td>0.351334</td>\n",
       "      <td>1.220489</td>\n",
       "      <td>2.117525</td>\n",
       "      <td>0.768354</td>\n",
       "      <td>0.652577</td>\n",
       "      <td>0.167308</td>\n",
       "    </tr>\n",
       "  </tbody>\n",
       "</table>\n",
       "<p>5 rows × 4000 columns</p>\n",
       "</div>"
      ],
      "text/plain": [
       "                     X_0       X_1       X_2       X_3       X_4       X_5  \\\n",
       "DHSID                                                                        \n",
       "AL201700000001  0.263912  0.529834  0.120221  0.221756  0.378645  0.742076   \n",
       "AL201700000002  0.256797  0.502296  0.118349  0.188700  0.358811  0.778503   \n",
       "AL201700000003  0.277972  0.573552  0.125706  0.231508  0.412960  0.771762   \n",
       "AL201700000004  0.258856  0.511748  0.118132  0.204472  0.369289  0.754167   \n",
       "AL201700000005  0.263912  0.529834  0.120221  0.221756  0.378645  0.742076   \n",
       "\n",
       "                     X_6       X_7       X_8       X_9  ...    X_3990  \\\n",
       "DHSID                                                   ...             \n",
       "AL201700000001  0.220042  0.312819  0.143793  0.560435  ...  0.439009   \n",
       "AL201700000002  0.237806  0.321708  0.115251  0.558410  ...  0.412139   \n",
       "AL201700000003  0.210382  0.322703  0.146661  0.587726  ...  0.488851   \n",
       "AL201700000004  0.229083  0.316454  0.129066  0.553742  ...  0.423077   \n",
       "AL201700000005  0.220042  0.312819  0.143793  0.560435  ...  0.439009   \n",
       "\n",
       "                  X_3991    X_3992    X_3993    X_3994    X_3995    X_3996  \\\n",
       "DHSID                                                                        \n",
       "AL201700000001  0.246906  0.802624  0.563975  0.351334  1.220489  2.117525   \n",
       "AL201700000002  0.236711  0.788731  0.555154  0.332123  1.188645  2.046447   \n",
       "AL201700000003  0.271301  0.918831  0.622778  0.398386  1.295117  2.351002   \n",
       "AL201700000004  0.240886  0.792644  0.561666  0.340954  1.198411  2.054426   \n",
       "AL201700000005  0.246906  0.802624  0.563975  0.351334  1.220489  2.117525   \n",
       "\n",
       "                  X_3997    X_3998    X_3999  \n",
       "DHSID                                         \n",
       "AL201700000001  0.768354  0.652577  0.167308  \n",
       "AL201700000002  0.769052  0.626322  0.166969  \n",
       "AL201700000003  0.826812  0.701968  0.181992  \n",
       "AL201700000004  0.764260  0.632968  0.167788  \n",
       "AL201700000005  0.768354  0.652577  0.167308  \n",
       "\n",
       "[5 rows x 4000 columns]"
      ]
     },
     "execution_count": 16,
     "metadata": {},
     "output_type": "execute_result"
    }
   ],
   "source": [
    "dhs_rcf_X.head()"
   ]
  },
  {
   "cell_type": "markdown",
   "metadata": {},
   "source": [
    "## Examine performance from cross country models"
   ]
  },
  {
   "cell_type": "code",
   "execution_count": 17,
   "metadata": {},
   "outputs": [],
   "source": [
    "model_directory = data_dir + \"/model_data/\""
   ]
  },
  {
   "cell_type": "code",
   "execution_count": 18,
   "metadata": {},
   "outputs": [],
   "source": [
    "### Adm1, RCF only\n",
    "\n",
    "path = (model_directory+\n",
    "           \"cross_country_kfold_solve_all_outcomes_country_fold_DENSE_pop_weight=True.pkl\"\n",
    "          )\n",
    "kfold_dict = pickle.load(open(path, \"rb\"))\n",
    "\n",
    "preds = predict_y_from_kfold_dict(dhs_rcf_X,kfold_dict,task)\n",
    "truth = iwi_overlap[\"IWI\"]\n"
   ]
  },
  {
   "cell_type": "code",
   "execution_count": 19,
   "metadata": {},
   "outputs": [],
   "source": [
    "n_train_adm1 = len(np.hstack(kfold_dict[task][\"locations_test\"]))"
   ]
  },
  {
   "cell_type": "code",
   "execution_count": 20,
   "metadata": {},
   "outputs": [],
   "source": [
    "adm1_rcf_perf_dict = dhs_pred_truth_to_metrics(preds, truth)"
   ]
  },
  {
   "cell_type": "code",
   "execution_count": 21,
   "metadata": {},
   "outputs": [
    {
     "data": {
      "text/plain": [
       "{'pearson': 0.3685642367086544,\n",
       " 'spearman': 0.5962937665575114,\n",
       " 'r2': 0.31149244806519394,\n",
       " 'within_adm0_pearson': 0.13968959243544718,\n",
       " 'within_adm0_spearman': 0.36367876645193054,\n",
       " 'within_adm0_r2': -0.0814394949863011,\n",
       " 'within_adm1_pearson': 0.07739748516015149,\n",
       " 'within_adm1_spearman': 0.2592693301453697,\n",
       " 'within_adm1_r2': -0.32646255651326017}"
      ]
     },
     "execution_count": 21,
     "metadata": {},
     "output_type": "execute_result"
    }
   ],
   "source": [
    "adm1_rcf_perf_dict"
   ]
  },
  {
   "cell_type": "code",
   "execution_count": 22,
   "metadata": {},
   "outputs": [],
   "source": [
    "df = dhs_pred_truth_to_metrics(preds, truth,return_df=True)"
   ]
  },
  {
   "cell_type": "code",
   "execution_count": 23,
   "metadata": {},
   "outputs": [],
   "source": [
    "### Adm1, NL only\n",
    "\n",
    "path = (model_directory+\n",
    "           \"cross_country_nl_solve_all_outcomes_country_fold_dmsp_hist_bins_GPW_pop_weighted.pkl\")\n",
    "\n",
    "nl_kfold_dict = pickle.load(open(path, \"rb\"))\n",
    "\n",
    "preds = predict_y_from_kfold_dict(dhs_nl_X,nl_kfold_dict,task)\n",
    "truth = iwi_overlap[\"IWI\"]"
   ]
  },
  {
   "cell_type": "code",
   "execution_count": 24,
   "metadata": {},
   "outputs": [],
   "source": [
    "adm1_nl_perf_dict = dhs_pred_truth_to_metrics(preds, truth)"
   ]
  },
  {
   "cell_type": "code",
   "execution_count": 25,
   "metadata": {},
   "outputs": [
    {
     "data": {
      "text/plain": [
       "{'pearson': 0.402450271608525,\n",
       " 'spearman': 0.6145369659261958,\n",
       " 'r2': -0.006479248019127359,\n",
       " 'within_adm0_pearson': 0.3023741437011924,\n",
       " 'within_adm0_spearman': 0.5509754582659943,\n",
       " 'within_adm0_r2': 0.022134621147371747,\n",
       " 'within_adm1_pearson': 0.26532220557504677,\n",
       " 'within_adm1_spearman': 0.5033089497948544,\n",
       " 'within_adm1_r2': -0.12430493026821932}"
      ]
     },
     "execution_count": 25,
     "metadata": {},
     "output_type": "execute_result"
    }
   ],
   "source": [
    "adm1_nl_perf_dict"
   ]
  },
  {
   "cell_type": "code",
   "execution_count": 26,
   "metadata": {},
   "outputs": [],
   "source": [
    "### Adm1, RCF+NL only\n",
    "\n",
    "path = (model_directory + \n",
    "           \"cross_country_rcf_and_nl_solve_all_outcomes_country_fold_DENSE_pop_weight=True_dmsp_hist_bins_GPW_pop_weighted.pkl\")\n",
    "\n",
    "\n",
    "nl_and_rcf_kfold_dict = pickle.load(open(path, \"rb\"))\n",
    "\n",
    "preds = predict_y_from_kfold_dict(dhs_rcf_X,nl_and_rcf_kfold_dict,task, dhs_nl_X)\n",
    "truth = iwi_overlap[\"IWI\"]"
   ]
  },
  {
   "cell_type": "code",
   "execution_count": 27,
   "metadata": {},
   "outputs": [],
   "source": [
    "adm1_rcf_and_nl_perf_dict = dhs_pred_truth_to_metrics(preds, truth)"
   ]
  },
  {
   "cell_type": "code",
   "execution_count": 28,
   "metadata": {},
   "outputs": [
    {
     "data": {
      "text/plain": [
       "{'pearson': 0.4993888580507504,\n",
       " 'spearman': 0.7006971142334537,\n",
       " 'r2': 0.3797321157144947,\n",
       " 'within_adm0_pearson': 0.2961418930584032,\n",
       " 'within_adm0_spearman': 0.5450086651334161,\n",
       " 'within_adm0_r2': 0.19050095527916555,\n",
       " 'within_adm1_pearson': 0.1890277784248376,\n",
       " 'within_adm1_spearman': 0.41869003618283945,\n",
       " 'within_adm1_r2': -0.0380163916608125}"
      ]
     },
     "execution_count": 28,
     "metadata": {},
     "output_type": "execute_result"
    }
   ],
   "source": [
    "adm1_rcf_and_nl_perf_dict"
   ]
  },
  {
   "cell_type": "markdown",
   "metadata": {},
   "source": [
    "## Now examine performance from ADM0 cross country models"
   ]
  },
  {
   "cell_type": "code",
   "execution_count": 29,
   "metadata": {},
   "outputs": [],
   "source": [
    "### Adm0, RCF only\n",
    "\n",
    "path = (model_directory+\n",
    "           \"kfold_solve_adm0_model_full\"\n",
    "           \"_pop_weighted_feats_DENSE.pkl\")\n",
    "\n",
    "adm0_kfold_dict = pickle.load(open(path, \"rb\"))\n",
    "\n",
    "preds = predict_y_from_kfold_dict(dhs_rcf_X,adm0_kfold_dict,task)\n",
    "truth = iwi_overlap[\"IWI\"]\n"
   ]
  },
  {
   "cell_type": "code",
   "execution_count": 30,
   "metadata": {},
   "outputs": [],
   "source": [
    "n_train_adm0 = len(np.hstack(adm0_kfold_dict[task][\"locations_test\"]))"
   ]
  },
  {
   "cell_type": "code",
   "execution_count": 31,
   "metadata": {},
   "outputs": [],
   "source": [
    "adm0_rcf_perf_dict = dhs_pred_truth_to_metrics(preds, truth)"
   ]
  },
  {
   "cell_type": "code",
   "execution_count": 32,
   "metadata": {},
   "outputs": [
    {
     "data": {
      "text/plain": [
       "{'pearson': 0.27291928575362284,\n",
       " 'spearman': 0.5111963777074391,\n",
       " 'r2': 0.09054380450325206,\n",
       " 'within_adm0_pearson': 0.11663749324100793,\n",
       " 'within_adm0_spearman': 0.3289280921192751,\n",
       " 'within_adm0_r2': -0.38373078110444414,\n",
       " 'within_adm1_pearson': 0.08083086902699292,\n",
       " 'within_adm1_spearman': 0.2559454996275326,\n",
       " 'within_adm1_r2': -0.6275136178560663}"
      ]
     },
     "execution_count": 32,
     "metadata": {},
     "output_type": "execute_result"
    }
   ],
   "source": [
    "adm0_rcf_perf_dict"
   ]
  },
  {
   "cell_type": "code",
   "execution_count": 33,
   "metadata": {},
   "outputs": [],
   "source": [
    "### Adm0, NL only\n",
    "\n",
    "path = (data_dir + \"/model_data/\"\n",
    "           \"dmsp_hist_bins_GPW_pop_weighted.pkl\")\n",
    "adm0_nl_kfold_dict = pickle.load(open(path, \"rb\"))\n",
    "\n",
    "preds = predict_y_from_kfold_dict(dhs_nl_X,adm0_nl_kfold_dict,task)\n",
    "truth = iwi_overlap[\"IWI\"]"
   ]
  },
  {
   "cell_type": "code",
   "execution_count": 34,
   "metadata": {},
   "outputs": [
    {
     "data": {
      "text/plain": [
       "{'pearson': 0.4194871231785607,\n",
       " 'spearman': 0.613991813916459,\n",
       " 'r2': -0.32796899047743655,\n",
       " 'within_adm0_pearson': 0.3275726470083765,\n",
       " 'within_adm0_spearman': 0.5687887688430951,\n",
       " 'within_adm0_r2': -0.4655227923470937,\n",
       " 'within_adm1_pearson': 0.2863278555667298,\n",
       " 'within_adm1_spearman': 0.5154997744813887,\n",
       " 'within_adm1_r2': -0.733462232030653}"
      ]
     },
     "execution_count": 34,
     "metadata": {},
     "output_type": "execute_result"
    }
   ],
   "source": [
    "adm0_nl_perf_dict = dhs_pred_truth_to_metrics(preds, truth)\n",
    "adm0_nl_perf_dict"
   ]
  },
  {
   "cell_type": "code",
   "execution_count": 35,
   "metadata": {},
   "outputs": [],
   "source": [
    "### Adm0, RCF+NL\n",
    "path = (model_directory+\n",
    "           \"kfold_solve_adm0_level_pop_weighted_feats_rcf_nl_dmsp_hist_bins_GPW_pop_weighted.pkl\")\n",
    "\n",
    "adm0_rcf_nl_kfold_dict = pickle.load(open(path, \"rb\"))\n",
    "\n",
    "preds = predict_y_from_kfold_dict(dhs_rcf_X,adm0_rcf_nl_kfold_dict,task,dhs_nl_X)\n",
    "truth = iwi_overlap[\"IWI\"]\n",
    "\n"
   ]
  },
  {
   "cell_type": "code",
   "execution_count": 36,
   "metadata": {},
   "outputs": [],
   "source": [
    "adm0_rcf_nl_perf_dict = dhs_pred_truth_to_metrics(preds, truth)"
   ]
  },
  {
   "cell_type": "code",
   "execution_count": 37,
   "metadata": {},
   "outputs": [
    {
     "data": {
      "text/plain": [
       "{'pearson': 0.40972411731192054,\n",
       " 'spearman': 0.6161893410887099,\n",
       " 'r2': -0.2985670087635124,\n",
       " 'within_adm0_pearson': 0.30000219116896887,\n",
       " 'within_adm0_spearman': 0.5442045343840687,\n",
       " 'within_adm0_r2': -0.38993542330628084,\n",
       " 'within_adm1_pearson': 0.2546827657610343,\n",
       " 'within_adm1_spearman': 0.4844594913410964,\n",
       " 'within_adm1_r2': -0.6740837159603865}"
      ]
     },
     "execution_count": 37,
     "metadata": {},
     "output_type": "execute_result"
    }
   ],
   "source": [
    "adm0_rcf_nl_perf_dict"
   ]
  },
  {
   "cell_type": "markdown",
   "metadata": {},
   "source": [
    "## Evaluate performance from within country models"
   ]
  },
  {
   "cell_type": "markdown",
   "metadata": {},
   "source": [
    "### Create demeaned Xs and Ys"
   ]
  },
  {
   "cell_type": "markdown",
   "metadata": {},
   "source": [
    "First we have to demean our Xs using the same country data as used in training. This is the mean of the ADM1 observations aggregated to the ADM1 level."
   ]
  },
  {
   "cell_type": "code",
   "execution_count": 38,
   "metadata": {},
   "outputs": [],
   "source": [
    "adm1_rcf_feats = pd.read_pickle( (data_dir + \"/features/mosaiks_features/\"\n",
    "                                  \"GDL_ADM1_polygon_X_creation_pop_weight=True.p\")).drop(columns=\"GDLCODE\")\n",
    "\n",
    "adm0_mean_rcf_feats =  X_matrix_to_demeaned_X(adm1_rcf_feats, return_mean_frame=True)\n",
    "\n",
    "\n",
    "adm1_nl_feats = pd.read_pickle( (data_dir + \"/features/nl_features/\"\n",
    "                                 \"GDL_HDI_polygons/dmsp_nightlight_features_\"\n",
    "                                 \"for_hdi_polygons_20_bins_GPW_pop_weighted.p\"))\n",
    "                                \n",
    "adm0_mean_nl_feats =  X_matrix_to_demeaned_X(adm1_nl_feats , return_mean_frame=True)"
   ]
  },
  {
   "cell_type": "code",
   "execution_count": 39,
   "metadata": {},
   "outputs": [],
   "source": [
    "dhs_id_to_iso = link_df[[\"DHSID\",\"alpha-3\"]]"
   ]
  },
  {
   "cell_type": "code",
   "execution_count": 40,
   "metadata": {},
   "outputs": [],
   "source": [
    "## Demean RCF X\n",
    "\n",
    "dhs_x_with_country = dhs_rcf_X.reset_index().merge(dhs_id_to_iso,\"left\", on = \"DHSID\").set_index(\"DHSID\")\n",
    "demean_dhs_X_rcf =  generalized_demean(dhs_x_with_country,adm0_mean_rcf_feats,\"alpha-3\")"
   ]
  },
  {
   "cell_type": "code",
   "execution_count": 41,
   "metadata": {},
   "outputs": [],
   "source": [
    "# Demean NL X\n",
    "dhs_nl_with_country = dhs_nl_X.reset_index().merge(dhs_id_to_iso,\"left\", on = \"DHSID\").set_index(\"DHSID\")\n",
    "demean_dhs_X_nl =  generalized_demean(dhs_nl_with_country,adm0_mean_nl_feats,\"alpha-3\")"
   ]
  },
  {
   "cell_type": "code",
   "execution_count": 42,
   "metadata": {},
   "outputs": [],
   "source": [
    "#demean y"
   ]
  },
  {
   "cell_type": "code",
   "execution_count": 43,
   "metadata": {},
   "outputs": [],
   "source": [
    "iwi_with_country = iwi_overlap.reset_index().merge(dhs_id_to_iso,\"left\", on = \"DHSID\").set_index(\"DHSID\")\n",
    "iwi_demean = iwi_with_country.merge(nat, \"left\", left_on=\"alpha-3\", right_index=True)\n",
    "\n",
    "iwi_demean[\"iwi demean\"] = iwi_demean[\"IWI\"] - iwi_demean[\"nat IWI\"]"
   ]
  },
  {
   "cell_type": "markdown",
   "metadata": {},
   "source": [
    "### Evaluate Performance"
   ]
  },
  {
   "cell_type": "code",
   "execution_count": 44,
   "metadata": {},
   "outputs": [],
   "source": [
    "### RCF only"
   ]
  },
  {
   "cell_type": "code",
   "execution_count": 45,
   "metadata": {},
   "outputs": [],
   "source": [
    "path = (model_directory+\n",
    "           \"within_country_demeaned_kfold_solve_all_outcomes_country_fold_DENSE_pop_weight=True.pkl\")\n",
    "\n",
    "demeaned_kfold_dict = pickle.load(open(path, \"rb\"))\n",
    "\n",
    "preds = predict_y_from_kfold_dict(demean_dhs_X_rcf.loc[iwi_demean.index], demeaned_kfold_dict, task)\n",
    "truth = iwi_demean[\"iwi demean\"]\n",
    "\n",
    "n_train_demean = len(np.hstack(demeaned_kfold_dict[task][\"locations_test\"]))"
   ]
  },
  {
   "cell_type": "code",
   "execution_count": 46,
   "metadata": {},
   "outputs": [],
   "source": [
    "n_train_demean = len(np.hstack(demeaned_kfold_dict[task][\"locations_test\"]))"
   ]
  },
  {
   "cell_type": "code",
   "execution_count": 47,
   "metadata": {},
   "outputs": [],
   "source": [
    "write_path = data_dir + \"/preds/demean_iwi_rcf_at_dhs.p\"\n",
    "#write_path = None"
   ]
  },
  {
   "cell_type": "code",
   "execution_count": 48,
   "metadata": {},
   "outputs": [],
   "source": [
    "demean_rcf_perf_dict = dhs_pred_truth_to_metrics(preds, truth,write_path=write_path, demeaned_input=True, recenter_on = \"adm1\")"
   ]
  },
  {
   "cell_type": "code",
   "execution_count": 49,
   "metadata": {},
   "outputs": [],
   "source": [
    "## NL only"
   ]
  },
  {
   "cell_type": "code",
   "execution_count": 50,
   "metadata": {},
   "outputs": [],
   "source": [
    "path = (model_directory+\n",
    "           \"within_country_nl_demeaned_solve_all_outcomes_country_fold_dmsp_hist_bins_GPW_pop_weighted.pkl\")\n",
    "\n",
    "nl_demeaned_kfold_dict = pickle.load(open(path, \"rb\"))\n",
    "\n",
    "preds = predict_y_from_kfold_dict(demean_dhs_X_nl.loc[iwi_demean.index], nl_demeaned_kfold_dict, task)\n",
    "truth = iwi_demean[\"iwi demean\"]\n"
   ]
  },
  {
   "cell_type": "code",
   "execution_count": 52,
   "metadata": {},
   "outputs": [],
   "source": [
    "write_path = data_dir + \"/preds/demean_iwi_nl_at_dhs.p\"\n",
    "#write_path=None\n"
   ]
  },
  {
   "cell_type": "code",
   "execution_count": 53,
   "metadata": {},
   "outputs": [],
   "source": [
    "demean_nl_perf_dict = dhs_pred_truth_to_metrics(preds, truth, write_path=write_path, \n",
    "                                                demeaned_input=True, recenter_on=\"adm1\")"
   ]
  },
  {
   "cell_type": "code",
   "execution_count": 54,
   "metadata": {},
   "outputs": [],
   "source": [
    "### RCF and NL"
   ]
  },
  {
   "cell_type": "code",
   "execution_count": 82,
   "metadata": {},
   "outputs": [],
   "source": [
    "path = (model_directory+\n",
    "           \"within_country_rcf_and_nl_demeaned_solve_all_outcomes_country_fold\"\n",
    "           \"_DENSE_pop_weight=True_dmsp_hist_bins_GPW_pop_weighted.pkl\")\n",
    "\n",
    "nl_and_rcf_demeaned_kfold_dict = pickle.load(open(path, \"rb\"))\n",
    "\n",
    "preds = predict_y_from_kfold_dict(demean_dhs_X_rcf.loc[iwi_demean.index], \n",
    "                                  nl_and_rcf_demeaned_kfold_dict, \n",
    "                                  task,\n",
    "                                  demean_dhs_X_nl.loc[iwi_demean.index])\n",
    "truth = iwi_demean[\"iwi demean\"]"
   ]
  },
  {
   "cell_type": "code",
   "execution_count": 83,
   "metadata": {},
   "outputs": [],
   "source": [
    "iwi_demean[\"iwi demean\"] = iwi_demean[\"IWI\"] - iwi_demean[\"nat IWI\"]\n",
    "iwi_demean = iwi_demean.dropna(subset = [\"nat IWI\"])"
   ]
  },
  {
   "cell_type": "code",
   "execution_count": 84,
   "metadata": {},
   "outputs": [],
   "source": [
    "iwi_demean = iwi_demean.dropna(subset = [\"nat IWI\"])"
   ]
  },
  {
   "cell_type": "code",
   "execution_count": 85,
   "metadata": {},
   "outputs": [],
   "source": [
    "write_path = data_dir + \"/preds/demean_iwi_rcf_nl_at_dhs.p\""
   ]
  },
  {
   "cell_type": "code",
   "execution_count": 86,
   "metadata": {},
   "outputs": [],
   "source": [
    "demean_rcf_and_nl_perf_dict = dhs_pred_truth_to_metrics(preds, truth, write_path=write_path, \n",
    "                                                        demeaned_input=True, recenter_on=\"adm1\")"
   ]
  },
  {
   "cell_type": "code",
   "execution_count": 87,
   "metadata": {},
   "outputs": [
    {
     "data": {
      "text/plain": [
       "{'pearson': 0.7540908910931801,\n",
       " 'spearman': 0.8668545156227587,\n",
       " 'r2': 0.7533925038387096,\n",
       " 'within_adm0_pearson': 0.5901016496311956,\n",
       " 'within_adm0_spearman': 0.7726875603701354,\n",
       " 'within_adm0_r2': 0.5899706521557301,\n",
       " 'within_adm1_pearson': 0.38510021204705425,\n",
       " 'within_adm1_spearman': 0.5951284707420764,\n",
       " 'within_adm1_r2': 0.38461623587548777}"
      ]
     },
     "execution_count": 87,
     "metadata": {},
     "output_type": "execute_result"
    }
   ],
   "source": [
    "demean_rcf_and_nl_perf_dict"
   ]
  },
  {
   "cell_type": "code",
   "execution_count": 88,
   "metadata": {
    "scrolled": false
   },
   "outputs": [],
   "source": [
    "df = dhs_pred_truth_to_metrics(preds, truth, demeaned_input=True, return_df=True, recenter_on=\"adm1\")\n",
    "# make_scatterplot(\"demeaned adm1 scatter\", df[\"true_demean_adm1\"], df[\"preds_demean_adm1\"])\n",
    "\n",
    "# make_scatterplot(\"scatter\", df[\"truth\"], df[\"preds\"])"
   ]
  },
  {
   "cell_type": "markdown",
   "metadata": {},
   "source": [
    "### Make summary table"
   ]
  },
  {
   "cell_type": "code",
   "execution_count": 62,
   "metadata": {},
   "outputs": [],
   "source": [
    "outcomes = [adm0_rcf_perf_dict,\n",
    "           adm0_nl_perf_dict,\n",
    "           adm0_rcf_nl_perf_dict,\n",
    "           \n",
    "           adm1_rcf_perf_dict,\n",
    "           adm1_nl_perf_dict,\n",
    "           adm1_rcf_and_nl_perf_dict,\n",
    "           \n",
    "           demean_rcf_perf_dict,\n",
    "           demean_nl_perf_dict,\n",
    "           demean_rcf_and_nl_perf_dict\n",
    "           \n",
    "    \n",
    "    \n",
    "    \n",
    "]"
   ]
  },
  {
   "cell_type": "code",
   "execution_count": 63,
   "metadata": {},
   "outputs": [],
   "source": [
    "table = pd.DataFrame(outcomes).round(2)\n",
    "\n",
    "table[table < 0] = \"$< 0$\""
   ]
  },
  {
   "cell_type": "code",
   "execution_count": 64,
   "metadata": {},
   "outputs": [],
   "source": [
    "rename_dict = {\"pearson\": \"$\\rho^{2}$\", \"spearman\":\"Spearman r\", \"r2\":\"$R^2$\",\n",
    "               \"within_adm0_pearson\": \"$\\rho^{2}$\", \"within_adm0_spearman\":\"Spearman r\", \"within_adm0_r2\":\"$R^{2}$\",\n",
    "               \"within_adm1_pearson\": \"$\\rho^{2}$\", \"within_adm1_spearman\":\"Spearman r\", \"within_adm1_r2\":\"$R^{2}$\",\n",
    "    \n",
    "}"
   ]
  },
  {
   "cell_type": "code",
   "execution_count": 65,
   "metadata": {},
   "outputs": [],
   "source": [
    "table = table.rename(columns = rename_dict)"
   ]
  },
  {
   "cell_type": "code",
   "execution_count": 66,
   "metadata": {},
   "outputs": [],
   "source": [
    "table.loc[0:2,\"HDI\"] = \"\\textbf{Country level} \" + \"(n={:,})\".format(n_train_adm0)\n",
    "table.loc[3:5,\"HDI\"] = \"\\textbf{Province level} \" + \"(n={:,})\".format(n_train_adm1 )\n",
    "table.loc[6:8,\"HDI\"] = \"\\textbf{Within-country} \" + \"(n={:,})\".format(n_train_demean)\n",
    "\n"
   ]
  },
  {
   "cell_type": "code",
   "execution_count": 67,
   "metadata": {},
   "outputs": [],
   "source": [
    "table.loc[0:2,\"\"] = [\"\\textbf{MOSAIKS}\",\"\\textbf{NL}\",\"\\textbf{MOSAIKS+NL}\"]\n",
    "table.loc[3:5,\"\"] = [\"\\textbf{MOSAIKS}\",\"\\textbf{NL}\",\"\\textbf{MOSAIKS+NL}\"]\n",
    "table.loc[6:8,\"\"] = [\"\\textbf{MOSAIKS}\",\"\\textbf{NL}\",\"\\textbf{MOSAIKS+NL}\"]"
   ]
  },
  {
   "cell_type": "code",
   "execution_count": 68,
   "metadata": {},
   "outputs": [],
   "source": [
    "table.loc[9] = \"\\textbf{Predicted at DHS cluster level} \" + \"(n={:,})\".format(len(iwi_overlap))"
   ]
  },
  {
   "cell_type": "code",
   "execution_count": 69,
   "metadata": {},
   "outputs": [],
   "source": [
    "table.loc[10] = \"\\emph{Full variation performance}\"\n",
    "table.iloc[10,3:6] = \"\\emph{Within-country performance}\"\n",
    "table.iloc[10,6:10] = \"\\emph{Within-province performance}\"\n",
    "\n",
    "table = table.iloc[:,[0,2,3,5,6,8,9,10]] #Remove Spearman\n",
    "\n",
    "\n",
    "table.loc[11] = (\"(\" + pd.Series(np.arange(1,table.shape[1]+1)).astype(str) +\")\").to_numpy()"
   ]
  },
  {
   "cell_type": "code",
   "execution_count": 70,
   "metadata": {},
   "outputs": [],
   "source": [
    "table = table.T.reset_index().set_index([9,10,\"index\",11])"
   ]
  },
  {
   "cell_type": "code",
   "execution_count": 71,
   "metadata": {},
   "outputs": [],
   "source": [
    "tab = table.T"
   ]
  },
  {
   "cell_type": "code",
   "execution_count": 72,
   "metadata": {},
   "outputs": [],
   "source": [
    "tab.columns.names = ([None, None, None,None])"
   ]
  },
  {
   "cell_type": "code",
   "execution_count": 73,
   "metadata": {},
   "outputs": [],
   "source": [
    "table = tab.set_index([tab.columns[-2],tab.columns[-1]])"
   ]
  },
  {
   "cell_type": "code",
   "execution_count": 74,
   "metadata": {},
   "outputs": [],
   "source": [
    "table.index.names =[\"\\textbf{\\emph{IWI trained at}}:\", \"\\textbf{\\emph{Features}}\"]\n"
   ]
  },
  {
   "cell_type": "code",
   "execution_count": 75,
   "metadata": {},
   "outputs": [
    {
     "data": {
      "text/html": [
       "<div>\n",
       "<style scoped>\n",
       "    .dataframe tbody tr th:only-of-type {\n",
       "        vertical-align: middle;\n",
       "    }\n",
       "\n",
       "    .dataframe tbody tr th {\n",
       "        vertical-align: top;\n",
       "    }\n",
       "\n",
       "    .dataframe thead tr th {\n",
       "        text-align: left;\n",
       "    }\n",
       "\n",
       "    .dataframe thead tr:last-of-type th {\n",
       "        text-align: right;\n",
       "    }\n",
       "</style>\n",
       "<table border=\"1\" class=\"dataframe\">\n",
       "  <thead>\n",
       "    <tr>\n",
       "      <th></th>\n",
       "      <th></th>\n",
       "      <th colspan=\"6\" halign=\"left\">\\textbf{Predicted at DHS cluster level} (n=51,996)</th>\n",
       "    </tr>\n",
       "    <tr>\n",
       "      <th></th>\n",
       "      <th></th>\n",
       "      <th colspan=\"2\" halign=\"left\">\\emph{Full variation performance}</th>\n",
       "      <th colspan=\"2\" halign=\"left\">\\emph{Within-country performance}</th>\n",
       "      <th colspan=\"2\" halign=\"left\">\\emph{Within-province performance}</th>\n",
       "    </tr>\n",
       "    <tr>\n",
       "      <th></th>\n",
       "      <th></th>\n",
       "      <th>$\\rho^{2}$</th>\n",
       "      <th>$R^2$</th>\n",
       "      <th>$\\rho^{2}$</th>\n",
       "      <th>$R^{2}$</th>\n",
       "      <th>$\\rho^{2}$</th>\n",
       "      <th>$R^{2}$</th>\n",
       "    </tr>\n",
       "    <tr>\n",
       "      <th></th>\n",
       "      <th></th>\n",
       "      <th>(1)</th>\n",
       "      <th>(2)</th>\n",
       "      <th>(3)</th>\n",
       "      <th>(4)</th>\n",
       "      <th>(5)</th>\n",
       "      <th>(6)</th>\n",
       "    </tr>\n",
       "    <tr>\n",
       "      <th>extbf{\\emph{IWI trained at}}:</th>\n",
       "      <th>extbf{\\emph{Features}}</th>\n",
       "      <th></th>\n",
       "      <th></th>\n",
       "      <th></th>\n",
       "      <th></th>\n",
       "      <th></th>\n",
       "      <th></th>\n",
       "    </tr>\n",
       "  </thead>\n",
       "  <tbody>\n",
       "    <tr>\n",
       "      <th rowspan=\"3\" valign=\"top\">\\textbf{Within-country} (n=863)</th>\n",
       "      <th>\\textbf{MOSAIKS+NL}</th>\n",
       "      <td>0.75</td>\n",
       "      <td>0.75</td>\n",
       "      <td>0.59</td>\n",
       "      <td>0.59</td>\n",
       "      <td>0.39</td>\n",
       "      <td>0.38</td>\n",
       "    </tr>\n",
       "    <tr>\n",
       "      <th>\\textbf{MOSAIKS}</th>\n",
       "      <td>0.69</td>\n",
       "      <td>0.68</td>\n",
       "      <td>0.48</td>\n",
       "      <td>0.47</td>\n",
       "      <td>0.22</td>\n",
       "      <td>0.2</td>\n",
       "    </tr>\n",
       "    <tr>\n",
       "      <th>\\textbf{NL}</th>\n",
       "      <td>0.76</td>\n",
       "      <td>0.76</td>\n",
       "      <td>0.59</td>\n",
       "      <td>0.59</td>\n",
       "      <td>0.39</td>\n",
       "      <td>0.39</td>\n",
       "    </tr>\n",
       "    <tr>\n",
       "      <th rowspan=\"3\" valign=\"top\">\\textbf{Province level} (n=864)</th>\n",
       "      <th>\\textbf{MOSAIKS+NL}</th>\n",
       "      <td>0.5</td>\n",
       "      <td>0.38</td>\n",
       "      <td>0.3</td>\n",
       "      <td>0.19</td>\n",
       "      <td>0.19</td>\n",
       "      <td>$&lt; 0$</td>\n",
       "    </tr>\n",
       "    <tr>\n",
       "      <th>\\textbf{MOSAIKS}</th>\n",
       "      <td>0.37</td>\n",
       "      <td>0.31</td>\n",
       "      <td>0.14</td>\n",
       "      <td>$&lt; 0$</td>\n",
       "      <td>0.08</td>\n",
       "      <td>$&lt; 0$</td>\n",
       "    </tr>\n",
       "    <tr>\n",
       "      <th>\\textbf{NL}</th>\n",
       "      <td>0.4</td>\n",
       "      <td>$&lt; 0$</td>\n",
       "      <td>0.3</td>\n",
       "      <td>0.02</td>\n",
       "      <td>0.27</td>\n",
       "      <td>$&lt; 0$</td>\n",
       "    </tr>\n",
       "    <tr>\n",
       "      <th rowspan=\"3\" valign=\"top\">\\textbf{Country level} (n=86)</th>\n",
       "      <th>\\textbf{MOSAIKS+NL}</th>\n",
       "      <td>0.41</td>\n",
       "      <td>$&lt; 0$</td>\n",
       "      <td>0.3</td>\n",
       "      <td>$&lt; 0$</td>\n",
       "      <td>0.25</td>\n",
       "      <td>$&lt; 0$</td>\n",
       "    </tr>\n",
       "    <tr>\n",
       "      <th>\\textbf{MOSAIKS}</th>\n",
       "      <td>0.27</td>\n",
       "      <td>0.09</td>\n",
       "      <td>0.12</td>\n",
       "      <td>$&lt; 0$</td>\n",
       "      <td>0.08</td>\n",
       "      <td>$&lt; 0$</td>\n",
       "    </tr>\n",
       "    <tr>\n",
       "      <th>\\textbf{NL}</th>\n",
       "      <td>0.42</td>\n",
       "      <td>$&lt; 0$</td>\n",
       "      <td>0.33</td>\n",
       "      <td>$&lt; 0$</td>\n",
       "      <td>0.29</td>\n",
       "      <td>$&lt; 0$</td>\n",
       "    </tr>\n",
       "  </tbody>\n",
       "</table>\n",
       "</div>"
      ],
      "text/plain": [
       "                                                         \\textbf{Predicted at DHS cluster level} (n=51,996)  \\\n",
       "                                                                          \\emph{Full variation performance}   \n",
       "                                                                                                 $\\rho^{2}$   \n",
       "                                                                                                        (1)   \n",
       "\\textbf{\\emph{IWI trained at}}: \\textbf{\\emph{Features}}                                                      \n",
       "\\textbf{Within-country} (n=863) \\textbf{MOSAIKS+NL}                                                    0.75   \n",
       "                                \\textbf{MOSAIKS}                                                       0.69   \n",
       "                                \\textbf{NL}                                                            0.76   \n",
       "\\textbf{Province level} (n=864) \\textbf{MOSAIKS+NL}                                                     0.5   \n",
       "                                \\textbf{MOSAIKS}                                                       0.37   \n",
       "                                \\textbf{NL}                                                             0.4   \n",
       "\\textbf{Country level} (n=86)   \\textbf{MOSAIKS+NL}                                                    0.41   \n",
       "                                \\textbf{MOSAIKS}                                                       0.27   \n",
       "                                \\textbf{NL}                                                            0.42   \n",
       "\n",
       "                                                                 \\\n",
       "                                                                  \n",
       "                                                          $R^2$   \n",
       "                                                            (2)   \n",
       "\\textbf{\\emph{IWI trained at}}: \\textbf{\\emph{Features}}          \n",
       "\\textbf{Within-country} (n=863) \\textbf{MOSAIKS+NL}        0.75   \n",
       "                                \\textbf{MOSAIKS}           0.68   \n",
       "                                \\textbf{NL}                0.76   \n",
       "\\textbf{Province level} (n=864) \\textbf{MOSAIKS+NL}        0.38   \n",
       "                                \\textbf{MOSAIKS}           0.31   \n",
       "                                \\textbf{NL}               $< 0$   \n",
       "\\textbf{Country level} (n=86)   \\textbf{MOSAIKS+NL}       $< 0$   \n",
       "                                \\textbf{MOSAIKS}           0.09   \n",
       "                                \\textbf{NL}               $< 0$   \n",
       "\n",
       "                                                                                            \\\n",
       "                                                         \\emph{Within-country performance}   \n",
       "                                                                                $\\rho^{2}$   \n",
       "                                                                                       (3)   \n",
       "\\textbf{\\emph{IWI trained at}}: \\textbf{\\emph{Features}}                                     \n",
       "\\textbf{Within-country} (n=863) \\textbf{MOSAIKS+NL}                                   0.59   \n",
       "                                \\textbf{MOSAIKS}                                      0.48   \n",
       "                                \\textbf{NL}                                           0.59   \n",
       "\\textbf{Province level} (n=864) \\textbf{MOSAIKS+NL}                                    0.3   \n",
       "                                \\textbf{MOSAIKS}                                      0.14   \n",
       "                                \\textbf{NL}                                            0.3   \n",
       "\\textbf{Country level} (n=86)   \\textbf{MOSAIKS+NL}                                    0.3   \n",
       "                                \\textbf{MOSAIKS}                                      0.12   \n",
       "                                \\textbf{NL}                                           0.33   \n",
       "\n",
       "                                                                  \\\n",
       "                                                                   \n",
       "                                                         $R^{2}$   \n",
       "                                                             (4)   \n",
       "\\textbf{\\emph{IWI trained at}}: \\textbf{\\emph{Features}}           \n",
       "\\textbf{Within-country} (n=863) \\textbf{MOSAIKS+NL}         0.59   \n",
       "                                \\textbf{MOSAIKS}            0.47   \n",
       "                                \\textbf{NL}                 0.59   \n",
       "\\textbf{Province level} (n=864) \\textbf{MOSAIKS+NL}         0.19   \n",
       "                                \\textbf{MOSAIKS}           $< 0$   \n",
       "                                \\textbf{NL}                 0.02   \n",
       "\\textbf{Country level} (n=86)   \\textbf{MOSAIKS+NL}        $< 0$   \n",
       "                                \\textbf{MOSAIKS}           $< 0$   \n",
       "                                \\textbf{NL}                $< 0$   \n",
       "\n",
       "                                                                                             \\\n",
       "                                                         \\emph{Within-province performance}   \n",
       "                                                                                 $\\rho^{2}$   \n",
       "                                                                                        (5)   \n",
       "\\textbf{\\emph{IWI trained at}}: \\textbf{\\emph{Features}}                                      \n",
       "\\textbf{Within-country} (n=863) \\textbf{MOSAIKS+NL}                                    0.39   \n",
       "                                \\textbf{MOSAIKS}                                       0.22   \n",
       "                                \\textbf{NL}                                            0.39   \n",
       "\\textbf{Province level} (n=864) \\textbf{MOSAIKS+NL}                                    0.19   \n",
       "                                \\textbf{MOSAIKS}                                       0.08   \n",
       "                                \\textbf{NL}                                            0.27   \n",
       "\\textbf{Country level} (n=86)   \\textbf{MOSAIKS+NL}                                    0.25   \n",
       "                                \\textbf{MOSAIKS}                                       0.08   \n",
       "                                \\textbf{NL}                                            0.29   \n",
       "\n",
       "                                                                  \n",
       "                                                                  \n",
       "                                                         $R^{2}$  \n",
       "                                                             (6)  \n",
       "\\textbf{\\emph{IWI trained at}}: \\textbf{\\emph{Features}}          \n",
       "\\textbf{Within-country} (n=863) \\textbf{MOSAIKS+NL}         0.38  \n",
       "                                \\textbf{MOSAIKS}             0.2  \n",
       "                                \\textbf{NL}                 0.39  \n",
       "\\textbf{Province level} (n=864) \\textbf{MOSAIKS+NL}        $< 0$  \n",
       "                                \\textbf{MOSAIKS}           $< 0$  \n",
       "                                \\textbf{NL}                $< 0$  \n",
       "\\textbf{Country level} (n=86)   \\textbf{MOSAIKS+NL}        $< 0$  \n",
       "                                \\textbf{MOSAIKS}           $< 0$  \n",
       "                                \\textbf{NL}                $< 0$  "
      ]
     },
     "execution_count": 75,
     "metadata": {},
     "output_type": "execute_result"
    }
   ],
   "source": [
    "table = table.iloc[[8,6,7,5,3,4,2,0,1]]\n",
    "table"
   ]
  },
  {
   "cell_type": "code",
   "execution_count": 76,
   "metadata": {},
   "outputs": [],
   "source": [
    "#table.to_pickle = \"/shares/maps100/data/output/applications/HDI/journal_tables/hdi_models_on_dhs_table_2022_2_28.p\""
   ]
  },
  {
   "cell_type": "code",
   "execution_count": 77,
   "metadata": {
    "scrolled": false
   },
   "outputs": [
    {
     "name": "stdout",
     "output_type": "stream",
     "text": [
      "\\begin{tabular}{ll||cc|cc|cc}\n",
      "\\toprule\n",
      "                              &             & \\multicolumn{6}{c}{\\textbf{Predicted at DHS cluster level} (n=51,996)} \\\\\n",
      "                              &             & \\multicolumn{2}{c}{\\emph{Full variation performance}} & \\multicolumn{2}{c}{\\emph{Within-country performance}} & \\multicolumn{2}{c}{\\emph{Within-province performance}} \\\\\n",
      "                              &             &                                         $\\rho^{2}$ &  $R^2$ &                        $\\rho^{2}$ & $R^{2}$ &                         $\\rho^{2}$ & $R^{2}$ \\\\\n",
      "                              &             &                                                (1) &    (2) &                               (3) &     (4) &                                (5) &     (6) \\\\\n",
      "\\textbf{\\emph{IWI trained at}}: & \\textbf{\\emph{Features}} &                                                    &        &                                   &         &                                    &         \\\\\n",
      "\\midrule\n",
      "\\textbf{Within-country} (n=863) & \\textbf{MOSAIKS+NL} &                                               0.75 &   0.75 &                              0.59 &    0.59 &                               0.39 &    0.38 \\\\\n",
      "                              & \\textbf{MOSAIKS} &                                               0.69 &   0.68 &                              0.48 &    0.47 &                               0.22 &     0.2 \\\\\n",
      "                              & \\textbf{NL} &                                               0.76 &   0.76 &                              0.59 &    0.59 &                               0.39 &    0.39 \\\\\n",
      "\\textbf{Province level} (n=864) & \\textbf{MOSAIKS+NL} &                                                0.5 &   0.38 &                               0.3 &    0.19 &                               0.19 &   $< 0$ \\\\\n",
      "                              & \\textbf{MOSAIKS} &                                               0.37 &   0.31 &                              0.14 &   $< 0$ &                               0.08 &   $< 0$ \\\\\n",
      "                              & \\textbf{NL} &                                                0.4 &  $< 0$ &                               0.3 &    0.02 &                               0.27 &   $< 0$ \\\\\n",
      "\\textbf{Country level} (n=86) & \\textbf{MOSAIKS+NL} &                                               0.41 &  $< 0$ &                               0.3 &   $< 0$ &                               0.25 &   $< 0$ \\\\\n",
      "                              & \\textbf{MOSAIKS} &                                               0.27 &   0.09 &                              0.12 &   $< 0$ &                               0.08 &   $< 0$ \\\\\n",
      "                              & \\textbf{NL} &                                               0.42 &  $< 0$ &                              0.33 &   $< 0$ &                               0.29 &   $< 0$ \\\\\n",
      "\\bottomrule\n",
      "\\end{tabular}\n",
      "\n"
     ]
    }
   ],
   "source": [
    "print(table.to_latex(bold_rows=False,column_format=\"ll||cc|cc|cc\",\n",
    "      escape=False, multicolumn_format=\"c\", na_rep = \"-\")  )"
   ]
  },
  {
   "cell_type": "code",
   "execution_count": null,
   "metadata": {},
   "outputs": [],
   "source": []
  },
  {
   "cell_type": "code",
   "execution_count": null,
   "metadata": {},
   "outputs": [],
   "source": []
  },
  {
   "cell_type": "code",
   "execution_count": null,
   "metadata": {},
   "outputs": [],
   "source": []
  }
 ],
 "metadata": {
  "kernelspec": {
   "display_name": "Python 3 (ipykernel)",
   "language": "python",
   "name": "python3"
  },
  "language_info": {
   "codemirror_mode": {
    "name": "ipython",
    "version": 3
   },
   "file_extension": ".py",
   "mimetype": "text/x-python",
   "name": "python",
   "nbconvert_exporter": "python",
   "pygments_lexer": "ipython3",
   "version": "3.7.10"
  }
 },
 "nbformat": 4,
 "nbformat_minor": 4
}
