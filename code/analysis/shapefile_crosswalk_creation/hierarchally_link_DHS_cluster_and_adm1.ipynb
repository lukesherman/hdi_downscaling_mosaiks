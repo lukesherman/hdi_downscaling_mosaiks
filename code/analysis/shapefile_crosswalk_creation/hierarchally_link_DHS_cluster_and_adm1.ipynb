{
 "cells": [
  {
   "cell_type": "code",
   "execution_count": 6,
   "metadata": {
    "scrolled": true
   },
   "outputs": [],
   "source": [
    "import os\n",
    "\n",
    "repo_dir = os.environ.get(\"REPO_DIR\")\n",
    "code_dir = os.path.join(repo_dir, \"code/\")\n",
    "data_dir = os.path.join(repo_dir, \"data/\")\n",
    "os.chdir(code_dir)\n",
    "\n",
    "import matplotlib.pyplot as plt\n",
    "import numpy as np\n",
    "import scipy.linalg\n",
    "from scipy.stats import spearmanr\n",
    "\n",
    "import pickle\n",
    "import pandas as pd\n",
    "import sklearn \n",
    "import sys\n",
    "import pandas as pd\n",
    "from importlib import reload\n",
    "import copy\n",
    "\n",
    "import warnings\n",
    "\n",
    "from sklearn.model_selection import KFold\n",
    "from sklearn.linear_model import Ridge\n",
    "import seaborn as sns\n",
    "\n",
    "from mosaiks.utils.imports import *\n",
    "\n",
    "# Key prediction functions are here\n",
    "from analysis.prediction_utils import predict_y_from_kfold_dict\n",
    "from analysis.prediction_utils import make_train_pred_scatterplot as make_scatterplot\n",
    "\n",
    "\n",
    "import geopandas as gpd\n",
    "import shapely"
   ]
  },
  {
   "cell_type": "markdown",
   "metadata": {},
   "source": [
    "## Link DHS clusters to parent ADM1 regions\n",
    "\n",
    "We need to be able to connect the DHS cluster level data to the correct parent ADM1 polygon"
   ]
  },
  {
   "cell_type": "markdown",
   "metadata": {},
   "source": [
    "### Read region codes data for spatial merge (iso2  to iso3 converstion)"
   ]
  },
  {
   "cell_type": "code",
   "execution_count": 9,
   "metadata": {},
   "outputs": [],
   "source": [
    "r = pd.read_csv(data_dir +\"raw/region_codes/region_codes.csv\")[[\"alpha-2\",\"alpha-3\"]]"
   ]
  },
  {
   "cell_type": "code",
   "execution_count": 10,
   "metadata": {},
   "outputs": [],
   "source": [
    "#The following set of iso2 codes are inconsistent from the DHS data. We will manually add them\n",
    "manual_rename = {\"BU\":\"BDI\",\"NM\":\"NAM\", \"DR\":\"DOM\",\"IA\":\"IND\"}"
   ]
  },
  {
   "cell_type": "code",
   "execution_count": 11,
   "metadata": {},
   "outputs": [],
   "source": [
    "stack = pd.DataFrame(manual_rename, index=[0]).T.reset_index()\n",
    "stack.columns = r.columns"
   ]
  },
  {
   "cell_type": "code",
   "execution_count": 12,
   "metadata": {},
   "outputs": [],
   "source": [
    "r = pd.concat([r,stack]).reset_index(drop=True)"
   ]
  },
  {
   "cell_type": "markdown",
   "metadata": {},
   "source": [
    "### Read IWI data at DHS cluser"
   ]
  },
  {
   "cell_type": "markdown",
   "metadata": {},
   "source": [
    "These DHS cluser level IWI data were proviced by GPL."
   ]
  },
  {
   "cell_type": "code",
   "execution_count": 13,
   "metadata": {},
   "outputs": [],
   "source": [
    "iwi =  pd.read_csv(data_dir + '/int/GDL_IWI/mean_IWI.csv').groupby(\"DHSID\").mean()"
   ]
  },
  {
   "cell_type": "markdown",
   "metadata": {},
   "source": [
    "## Step 1 -  Link DHS polygons to ADM1 units"
   ]
  },
  {
   "cell_type": "code",
   "execution_count": 7,
   "metadata": {},
   "outputs": [],
   "source": [
    "temp_shp = pd.read_pickle(data_dir + \"int/GDL_IWI/DHS_iwi_cluster_buffers_clipped.p\").set_index(\"DHSID\")\n",
    "dhs_shp = temp_shp.loc[iwi.index].reset_index()\n",
    "\n"
   ]
  },
  {
   "cell_type": "code",
   "execution_count": 8,
   "metadata": {},
   "outputs": [],
   "source": [
    "## add a 3 character iso code to DHS\n",
    "\n",
    "dhs_shp[\"iso2\"] = dhs_shp[\"surveyID\"].apply(lambda x : x[:2])\n",
    "dhs_shp = dhs_shp.merge(r[[\"alpha-2\",\"alpha-3\"]], how=\"left\", left_on=\"iso2\", right_on=\"alpha-2\")"
   ]
  },
  {
   "cell_type": "code",
   "execution_count": 9,
   "metadata": {},
   "outputs": [
    {
     "data": {
      "text/plain": [
       "<AxesSubplot:>"
      ]
     },
     "execution_count": 9,
     "metadata": {},
     "output_type": "execute_result"
    },
    {
     "data": {
      "image/png": "[encoded data removed]",
      "text/plain": [
       "<Figure size 432x288 with 1 Axes>"
      ]
     },
     "metadata": {
      "needs_background": "light"
     },
     "output_type": "display_data"
    }
   ],
   "source": [
    "dhs_shp.plot()"
   ]
  },
  {
   "cell_type": "code",
   "execution_count": 14,
   "metadata": {},
   "outputs": [],
   "source": [
    "shapefile_path = data_dir + \"raw/GDL_HDI/GDL_Shapefiles_V4/GDL_Shapefiles_V4.shp\"\n",
    "gpdf = gpd.read_file(shapefile_path)"
   ]
  },
  {
   "cell_type": "code",
   "execution_count": 11,
   "metadata": {},
   "outputs": [],
   "source": [
    "def get_adm1_adm2_intersection_for_country(country_code, adm1, adm2, adm2_country_col_name=\"alpha-3\"):\n",
    "    adm1_subset = adm1[adm1[\"iso_code\"] == country_code]\n",
    "    adm2_subset = adm2[adm2[adm2_country_col_name] == country_code]\n",
    "    \n",
    "    overlaps_list = []\n",
    "    percentages_list = []\n",
    "\n",
    "    for adm2_geometry in adm2_subset[\"geometry\"]:\n",
    "        bools = adm1_subset.intersects(adm2_geometry)\n",
    "        overlaps = list(adm1_subset[\"GDLcode\"].loc[bools])\n",
    "        percentages = list(adm1_subset.loc[bools].intersection(adm2_geometry).area / adm2_geometry.area)\n",
    "\n",
    "        overlaps_list.append(overlaps)\n",
    "        percentages_list.append(percentages)\n",
    "\n",
    "    adm2_subset_copy = adm2_subset.copy()\n",
    "    adm2_subset_copy[\"overlaps\"] = overlaps_list\n",
    "    adm2_subset_copy[\"percent_overlaps\"] = percentages_list\n",
    "    \n",
    "    return adm2_subset_copy"
   ]
  },
  {
   "cell_type": "code",
   "execution_count": 12,
   "metadata": {},
   "outputs": [],
   "source": [
    "dhs_countries = dhs_shp[\"alpha-3\"].unique()"
   ]
  },
  {
   "cell_type": "code",
   "execution_count": 13,
   "metadata": {},
   "outputs": [
    {
     "data": {
      "text/plain": [
       "array(['ALB', 'ARM', 'AGO', 'BGD', 'BEN', 'BDI', 'COD', 'CMR', 'DOM',\n",
       "       'EGY', 'GAB', 'GHA', 'GIN', 'GUM', 'HTI', 'IND', 'JOR', 'KEN',\n",
       "       'CYM', 'LSO', 'MLI', 'MMR', 'MWI', 'MOZ', 'NGA', 'NAM', 'NPL',\n",
       "       'PHL', 'PAK', 'RWA', 'SLE', 'SEN', 'TCD', 'TGO', 'TJK', 'TLS',\n",
       "       'TZA', 'UGA', 'ZAF', 'ZMB', 'ZWE'], dtype=object)"
      ]
     },
     "execution_count": 13,
     "metadata": {},
     "output_type": "execute_result"
    }
   ],
   "source": [
    "dhs_countries"
   ]
  },
  {
   "cell_type": "code",
   "execution_count": null,
   "metadata": {},
   "outputs": [],
   "source": [
    "# slow code below has been commented out and an intermediate file saved"
   ]
  },
  {
   "cell_type": "code",
   "execution_count": 26,
   "metadata": {},
   "outputs": [],
   "source": [
    "# dfs = []\n",
    "\n",
    "# for country_code in dhs_countries:\n",
    "    \n",
    "#     dfs.append(get_adm1_adm2_intersection_for_country(country_code,gpdf,dhs_shp))\n",
    "# link_df = pd.concat(dfs)"
   ]
  },
  {
   "cell_type": "code",
   "execution_count": 27,
   "metadata": {},
   "outputs": [
    {
     "data": {
      "text/html": [
       "<div>\n",
       "<style scoped>\n",
       "    .dataframe tbody tr th:only-of-type {\n",
       "        vertical-align: middle;\n",
       "    }\n",
       "\n",
       "    .dataframe tbody tr th {\n",
       "        vertical-align: top;\n",
       "    }\n",
       "\n",
       "    .dataframe thead th {\n",
       "        text-align: right;\n",
       "    }\n",
       "</style>\n",
       "<table border=\"1\" class=\"dataframe\">\n",
       "  <thead>\n",
       "    <tr style=\"text-align: right;\">\n",
       "      <th></th>\n",
       "      <th>DHSID</th>\n",
       "      <th>DHSCLUST</th>\n",
       "      <th>DHSREGCO</th>\n",
       "      <th>DHSREGNA</th>\n",
       "      <th>ADM1DHS</th>\n",
       "      <th>ADM1NAME</th>\n",
       "      <th>URBAN_RURA</th>\n",
       "      <th>LATNUM</th>\n",
       "      <th>LONGNUM</th>\n",
       "      <th>DHSREGEN</th>\n",
       "      <th>REGCODE</th>\n",
       "      <th>REGNAME</th>\n",
       "      <th>surveyID</th>\n",
       "      <th>regionID</th>\n",
       "      <th>geometry</th>\n",
       "      <th>iso2</th>\n",
       "      <th>alpha-2</th>\n",
       "      <th>alpha-3</th>\n",
       "      <th>overlaps</th>\n",
       "      <th>percent_overlaps</th>\n",
       "    </tr>\n",
       "  </thead>\n",
       "  <tbody>\n",
       "    <tr>\n",
       "      <th>0</th>\n",
       "      <td>AL201700000001</td>\n",
       "      <td>1.0</td>\n",
       "      <td>1.0</td>\n",
       "      <td>Berat</td>\n",
       "      <td>1.0</td>\n",
       "      <td>Berat</td>\n",
       "      <td>U</td>\n",
       "      <td>40.710440</td>\n",
       "      <td>19.946651</td>\n",
       "      <td>Berat</td>\n",
       "      <td>1.0</td>\n",
       "      <td>Berat</td>\n",
       "      <td>AL_2017_DHS</td>\n",
       "      <td>AL_2017_DHS_REGCODE_1</td>\n",
       "      <td>POLYGON ((19.97040 40.71044, 19.97028 40.70868...</td>\n",
       "      <td>AL</td>\n",
       "      <td>AL</td>\n",
       "      <td>ALB</td>\n",
       "      <td>[ALBr201]</td>\n",
       "      <td>[1.0]</td>\n",
       "    </tr>\n",
       "    <tr>\n",
       "      <th>1</th>\n",
       "      <td>AL201700000002</td>\n",
       "      <td>2.0</td>\n",
       "      <td>1.0</td>\n",
       "      <td>Berat</td>\n",
       "      <td>1.0</td>\n",
       "      <td>Berat</td>\n",
       "      <td>U</td>\n",
       "      <td>40.706556</td>\n",
       "      <td>19.928871</td>\n",
       "      <td>Berat</td>\n",
       "      <td>1.0</td>\n",
       "      <td>Berat</td>\n",
       "      <td>AL_2017_DHS</td>\n",
       "      <td>AL_2017_DHS_REGCODE_1</td>\n",
       "      <td>POLYGON ((19.95262 40.70656, 19.95250 40.70479...</td>\n",
       "      <td>AL</td>\n",
       "      <td>AL</td>\n",
       "      <td>ALB</td>\n",
       "      <td>[ALBr201]</td>\n",
       "      <td>[1.0]</td>\n",
       "    </tr>\n",
       "    <tr>\n",
       "      <th>2</th>\n",
       "      <td>AL201700000003</td>\n",
       "      <td>3.0</td>\n",
       "      <td>1.0</td>\n",
       "      <td>Berat</td>\n",
       "      <td>1.0</td>\n",
       "      <td>Berat</td>\n",
       "      <td>U</td>\n",
       "      <td>40.699880</td>\n",
       "      <td>19.941165</td>\n",
       "      <td>Berat</td>\n",
       "      <td>1.0</td>\n",
       "      <td>Berat</td>\n",
       "      <td>AL_2017_DHS</td>\n",
       "      <td>AL_2017_DHS_REGCODE_1</td>\n",
       "      <td>POLYGON ((19.96491 40.69988, 19.96479 40.69812...</td>\n",
       "      <td>AL</td>\n",
       "      <td>AL</td>\n",
       "      <td>ALB</td>\n",
       "      <td>[ALBr201]</td>\n",
       "      <td>[1.0]</td>\n",
       "    </tr>\n",
       "    <tr>\n",
       "      <th>3</th>\n",
       "      <td>AL201700000004</td>\n",
       "      <td>4.0</td>\n",
       "      <td>1.0</td>\n",
       "      <td>Berat</td>\n",
       "      <td>1.0</td>\n",
       "      <td>Berat</td>\n",
       "      <td>U</td>\n",
       "      <td>40.706846</td>\n",
       "      <td>19.935033</td>\n",
       "      <td>Berat</td>\n",
       "      <td>1.0</td>\n",
       "      <td>Berat</td>\n",
       "      <td>AL_2017_DHS</td>\n",
       "      <td>AL_2017_DHS_REGCODE_1</td>\n",
       "      <td>POLYGON ((19.95878 40.70685, 19.95866 40.70508...</td>\n",
       "      <td>AL</td>\n",
       "      <td>AL</td>\n",
       "      <td>ALB</td>\n",
       "      <td>[ALBr201]</td>\n",
       "      <td>[1.0]</td>\n",
       "    </tr>\n",
       "    <tr>\n",
       "      <th>4</th>\n",
       "      <td>AL201700000005</td>\n",
       "      <td>5.0</td>\n",
       "      <td>1.0</td>\n",
       "      <td>Berat</td>\n",
       "      <td>1.0</td>\n",
       "      <td>Berat</td>\n",
       "      <td>U</td>\n",
       "      <td>40.711084</td>\n",
       "      <td>19.945552</td>\n",
       "      <td>Berat</td>\n",
       "      <td>1.0</td>\n",
       "      <td>Berat</td>\n",
       "      <td>AL_2017_DHS</td>\n",
       "      <td>AL_2017_DHS_REGCODE_1</td>\n",
       "      <td>POLYGON ((19.96930 40.71108, 19.96918 40.70932...</td>\n",
       "      <td>AL</td>\n",
       "      <td>AL</td>\n",
       "      <td>ALB</td>\n",
       "      <td>[ALBr201]</td>\n",
       "      <td>[1.0]</td>\n",
       "    </tr>\n",
       "  </tbody>\n",
       "</table>\n",
       "</div>"
      ],
      "text/plain": [
       "            DHSID  DHSCLUST  DHSREGCO DHSREGNA  ADM1DHS ADM1NAME URBAN_RURA  \\\n",
       "0  AL201700000001       1.0       1.0    Berat      1.0    Berat          U   \n",
       "1  AL201700000002       2.0       1.0    Berat      1.0    Berat          U   \n",
       "2  AL201700000003       3.0       1.0    Berat      1.0    Berat          U   \n",
       "3  AL201700000004       4.0       1.0    Berat      1.0    Berat          U   \n",
       "4  AL201700000005       5.0       1.0    Berat      1.0    Berat          U   \n",
       "\n",
       "      LATNUM    LONGNUM DHSREGEN  REGCODE REGNAME     surveyID  \\\n",
       "0  40.710440  19.946651    Berat      1.0   Berat  AL_2017_DHS   \n",
       "1  40.706556  19.928871    Berat      1.0   Berat  AL_2017_DHS   \n",
       "2  40.699880  19.941165    Berat      1.0   Berat  AL_2017_DHS   \n",
       "3  40.706846  19.935033    Berat      1.0   Berat  AL_2017_DHS   \n",
       "4  40.711084  19.945552    Berat      1.0   Berat  AL_2017_DHS   \n",
       "\n",
       "                regionID                                           geometry  \\\n",
       "0  AL_2017_DHS_REGCODE_1  POLYGON ((19.97040 40.71044, 19.97028 40.70868...   \n",
       "1  AL_2017_DHS_REGCODE_1  POLYGON ((19.95262 40.70656, 19.95250 40.70479...   \n",
       "2  AL_2017_DHS_REGCODE_1  POLYGON ((19.96491 40.69988, 19.96479 40.69812...   \n",
       "3  AL_2017_DHS_REGCODE_1  POLYGON ((19.95878 40.70685, 19.95866 40.70508...   \n",
       "4  AL_2017_DHS_REGCODE_1  POLYGON ((19.96930 40.71108, 19.96918 40.70932...   \n",
       "\n",
       "  iso2 alpha-2 alpha-3   overlaps percent_overlaps  \n",
       "0   AL      AL     ALB  [ALBr201]            [1.0]  \n",
       "1   AL      AL     ALB  [ALBr201]            [1.0]  \n",
       "2   AL      AL     ALB  [ALBr201]            [1.0]  \n",
       "3   AL      AL     ALB  [ALBr201]            [1.0]  \n",
       "4   AL      AL     ALB  [ALBr201]            [1.0]  "
      ]
     },
     "execution_count": 27,
     "metadata": {},
     "output_type": "execute_result"
    }
   ],
   "source": [
    "link_df.head()"
   ]
  },
  {
   "cell_type": "code",
   "execution_count": 28,
   "metadata": {},
   "outputs": [],
   "source": [
    "link_path = data_dir + \"int/DHS_to_GDL_ADM1_link/int_file_dhsid_to_gdl_adm1_link.p\"\n",
    "#link_df.to_pickle(link_path)\n",
    "link_df = pd.read_pickle(link_path)"
   ]
  },
  {
   "cell_type": "code",
   "execution_count": 29,
   "metadata": {},
   "outputs": [],
   "source": [
    "link_df_clean = link_df[link_df[\"overlaps\"].apply(len) != 0].copy()"
   ]
  },
  {
   "cell_type": "code",
   "execution_count": 30,
   "metadata": {},
   "outputs": [
    {
     "name": "stdout",
     "output_type": "stream",
     "text": [
      "1197 observations do not overlap an ADM1 region\n",
      "We drop these, representing 2.25  percent of the data\n"
     ]
    }
   ],
   "source": [
    "no_overlap_count = len(link_df)- len(link_df_clean)\n",
    "print(no_overlap_count, \"observations do not overlap an ADM1 region\" )\n",
    "print(\"We drop these, representing\", round(no_overlap_count/len(link_df) * 100,2), \" percent of the data\")"
   ]
  },
  {
   "cell_type": "code",
   "execution_count": 32,
   "metadata": {},
   "outputs": [],
   "source": [
    "arg_maxes = link_df_clean[\"percent_overlaps\"].apply(np.argmax)\n",
    "parent_adm1 = [link_df_clean[\"overlaps\"].iloc[i][item] for i,item in enumerate(arg_maxes)]\n",
    "perc_overlap = [link_df_clean[\"percent_overlaps\"].iloc[i][item] for i,item in enumerate(arg_maxes)]\n"
   ]
  },
  {
   "cell_type": "code",
   "execution_count": 33,
   "metadata": {},
   "outputs": [],
   "source": [
    "link_df_clean[\"GDL_adm1_parent\"] = parent_adm1\n",
    "link_df_clean[\"perc_overlap_with_parent\"] = perc_overlap"
   ]
  },
  {
   "cell_type": "code",
   "execution_count": 34,
   "metadata": {},
   "outputs": [],
   "source": [
    "link_df_clean.to_pickle(data_dir + \"int/DHS_to_GDL_ADM1_link/dhsid_to_gdl_adm1_link.p\")"
   ]
  },
  {
   "cell_type": "code",
   "execution_count": 39,
   "metadata": {},
   "outputs": [
    {
     "data": {
      "text/plain": [
       "Text(0.5, 1.0, '% overlap between DHS polygons and their parent ADM1 region')"
      ]
     },
     "execution_count": 39,
     "metadata": {},
     "output_type": "execute_result"
    },
    {
     "data": {
      "image/png": "[encoded data removed]",
      "text/plain": [
       "<Figure size 432x288 with 1 Axes>"
      ]
     },
     "metadata": {
      "needs_background": "light"
     },
     "output_type": "display_data"
    }
   ],
   "source": [
    "link_df_clean[\"perc_overlap_with_parent\"].hist()\n",
    "\n",
    "plt.title(\"% overlap between DHS polygons and their parent ADM1 region\")"
   ]
  },
  {
   "cell_type": "code",
   "execution_count": 56,
   "metadata": {},
   "outputs": [
    {
     "name": "stdout",
     "output_type": "stream",
     "text": [
      "There are just 71  DHS IWI obs that have less than 50% overlap with an ADM1 region\n"
     ]
    }
   ],
   "source": [
    "print( \"There are just\", (link_df_clean[\"perc_overlap_with_parent\"] < .5).sum(),\n",
    "\" DHS IWI obs that have less than 50% overlap with an ADM1 region\" )"
   ]
  },
  {
   "cell_type": "code",
   "execution_count": null,
   "metadata": {},
   "outputs": [],
   "source": []
  }
 ],
 "metadata": {
  "kernelspec": {
   "display_name": "Python 3 (ipykernel)",
   "language": "python",
   "name": "python3"
  },
  "language_info": {
   "codemirror_mode": {
    "name": "ipython",
    "version": 3
   },
   "file_extension": ".py",
   "mimetype": "text/x-python",
   "name": "python",
   "nbconvert_exporter": "python",
   "pygments_lexer": "ipython3",
   "version": "3.7.10"
  }
 },
 "nbformat": 4,
 "nbformat_minor": 4
}
