{
 "cells": [
  {
   "cell_type": "code",
   "execution_count": 2,
   "id": "f8cd56e5",
   "metadata": {},
   "outputs": [],
   "source": [
    "import matplotlib.pyplot as plt\n",
    "import numpy as np\n",
    "import scipy.linalg\n",
    "import pickle\n",
    "import pandas as pd\n",
    "import sklearn \n",
    "import sys\n",
    "import pandas as pd\n",
    "import os\n",
    "repo_dir = os.environ.get(\"REPO_DIR\")\n",
    "code_dir = os.path.join(repo_dir, \"code/\")\n",
    "data_dir = os.path.join(repo_dir, \"data/\")\n",
    "os.chdir(code_dir)\n"
   ]
  },
  {
   "cell_type": "code",
   "execution_count": 3,
   "id": "bf469700",
   "metadata": {},
   "outputs": [],
   "source": [
    "def df_to_demeaned_y_vars(task, \n",
    "                          df, \n",
    "                          method =\"calc\", \n",
    "                log_before_diff=False):\n",
    "    \n",
    "    hats = df.copy()\n",
    "    hats.rename(columns = {task : \"y_true\"}, inplace=True)\n",
    "\n",
    "    if method == \"calc\":\n",
    "        country_means = hats.groupby(\"ISO_Code\")[\"y_true\"].mean().to_frame().rename(columns={\"y_true\" : \"y_bar_country\"})\n",
    "        hats = hats.merge(country_means, \"left\", left_on = \"ISO_Code\", right_index=True)\n",
    "    else:\n",
    "        raise Exception(\"NotImplemented  - Invalid method input\")\n",
    "    \n",
    "    hats[\"demeaned_y_true\"] = hats.y_true - hats.y_bar_country\n",
    "    \n",
    "    if log_before_diff:\n",
    "        hats[\"demeaned_y_true\"] = np.log(hats.y_true) - np.log(hats.y_bar_country)\n",
    "    return hats[\"demeaned_y_true\"]"
   ]
  },
  {
   "cell_type": "code",
   "execution_count": 4,
   "id": "fccee6dd",
   "metadata": {},
   "outputs": [],
   "source": [
    "df = pd.read_pickle(data_dir + \"int/GDL_HDI/HDI_indicators_and_indices_clean.p\")"
   ]
  },
  {
   "cell_type": "code",
   "execution_count": 5,
   "id": "e6a931e2",
   "metadata": {},
   "outputs": [],
   "source": [
    "tasks = ['Sub-national HDI', \n",
    "         \"Life expectancy\", \n",
    "         \"Mean years schooling\", \n",
    "         \"Expected years schooling\",\n",
    "         \"GNI per capita in thousands of US$ (2011 PPP)\"]\n",
    "\n",
    "mat_df = df[tasks + [\"ISO_Code\"]]"
   ]
  },
  {
   "cell_type": "code",
   "execution_count": 6,
   "id": "bc09a818",
   "metadata": {},
   "outputs": [],
   "source": [
    "mat_df = mat_df.rename(columns = {\"Sub-national HDI\":\"HDI\",\"GNI per capita in thousands of US$ (2011 PPP)\":\"GNIpc\" })"
   ]
  },
  {
   "cell_type": "code",
   "execution_count": 7,
   "id": "45bb1c51",
   "metadata": {},
   "outputs": [],
   "source": [
    "mat_df_countries = mat_df.pop(\"ISO_Code\")\n",
    "\n",
    "corr = mat_df.corr()\n",
    "\n",
    "corr.columns = mat_df.columns\n",
    "corr.index = mat_df.columns\n",
    "\n",
    "corr = corr ** 2"
   ]
  },
  {
   "cell_type": "code",
   "execution_count": 8,
   "id": "b36b9b96",
   "metadata": {},
   "outputs": [
    {
     "name": "stdout",
     "output_type": "stream",
     "text": [
      "\\begin{tabular}{lrrrrr}\n",
      "\\toprule\n",
      "{} &   HDI &  Life expectancy &  Mean years schooling &  Expected years schooling &  GNIpc \\\\\n",
      "\\midrule\n",
      "HDI                      &  1.00 &             0.79 &                  0.84 &                      0.83 &   0.63 \\\\\n",
      "Life expectancy          &  0.79 &             1.00 &                  0.54 &                      0.60 &   0.44 \\\\\n",
      "Mean years schooling     &  0.84 &             0.54 &                  1.00 &                      0.62 &   0.51 \\\\\n",
      "Expected years schooling &  0.83 &             0.60 &                  0.62 &                      1.00 &   0.46 \\\\\n",
      "GNIpc                    &  0.63 &             0.44 &                  0.51 &                      0.46 &   1.00 \\\\\n",
      "\\bottomrule\n",
      "\\end{tabular}\n",
      "\n"
     ]
    }
   ],
   "source": [
    "print(corr.round(2).replace(np.nan, \"\").to_latex())"
   ]
  },
  {
   "cell_type": "code",
   "execution_count": 9,
   "id": "bcaf1a82",
   "metadata": {
    "scrolled": true
   },
   "outputs": [],
   "source": [
    "\n",
    "mask = np.zeros_like(corr, dtype=bool)\n",
    "mask[np.triu_indices_from(mask)] = True\n",
    "corr[mask] = np.nan\n",
    "a = (corr\n",
    " .style\n",
    " .background_gradient(axis=None, vmin=-1, vmax=1)\n",
    " .highlight_null(null_color='#f1f1f1')  # Color NaNs grey\n",
    " .set_precision(2))"
   ]
  },
  {
   "cell_type": "code",
   "execution_count": 10,
   "id": "4769aab7",
   "metadata": {},
   "outputs": [],
   "source": [
    "corr = corr.round(2)"
   ]
  },
  {
   "cell_type": "code",
   "execution_count": 11,
   "id": "a182d34b",
   "metadata": {},
   "outputs": [],
   "source": [
    "corr[corr.isnull()] = \"\""
   ]
  },
  {
   "cell_type": "code",
   "execution_count": 12,
   "id": "ce60b391",
   "metadata": {},
   "outputs": [
    {
     "data": {
      "text/html": [
       "<div>\n",
       "<style scoped>\n",
       "    .dataframe tbody tr th:only-of-type {\n",
       "        vertical-align: middle;\n",
       "    }\n",
       "\n",
       "    .dataframe tbody tr th {\n",
       "        vertical-align: top;\n",
       "    }\n",
       "\n",
       "    .dataframe thead th {\n",
       "        text-align: right;\n",
       "    }\n",
       "</style>\n",
       "<table border=\"1\" class=\"dataframe\">\n",
       "  <thead>\n",
       "    <tr style=\"text-align: right;\">\n",
       "      <th></th>\n",
       "      <th>HDI</th>\n",
       "      <th>Life expectancy</th>\n",
       "      <th>Mean years schooling</th>\n",
       "      <th>Expected years schooling</th>\n",
       "      <th>GNIpc</th>\n",
       "    </tr>\n",
       "  </thead>\n",
       "  <tbody>\n",
       "    <tr>\n",
       "      <th>HDI</th>\n",
       "      <td></td>\n",
       "      <td></td>\n",
       "      <td></td>\n",
       "      <td></td>\n",
       "      <td></td>\n",
       "    </tr>\n",
       "    <tr>\n",
       "      <th>Life expectancy</th>\n",
       "      <td>0.79</td>\n",
       "      <td></td>\n",
       "      <td></td>\n",
       "      <td></td>\n",
       "      <td></td>\n",
       "    </tr>\n",
       "    <tr>\n",
       "      <th>Mean years schooling</th>\n",
       "      <td>0.84</td>\n",
       "      <td>0.54</td>\n",
       "      <td></td>\n",
       "      <td></td>\n",
       "      <td></td>\n",
       "    </tr>\n",
       "    <tr>\n",
       "      <th>Expected years schooling</th>\n",
       "      <td>0.83</td>\n",
       "      <td>0.6</td>\n",
       "      <td>0.62</td>\n",
       "      <td></td>\n",
       "      <td></td>\n",
       "    </tr>\n",
       "    <tr>\n",
       "      <th>GNIpc</th>\n",
       "      <td>0.63</td>\n",
       "      <td>0.44</td>\n",
       "      <td>0.51</td>\n",
       "      <td>0.46</td>\n",
       "      <td></td>\n",
       "    </tr>\n",
       "  </tbody>\n",
       "</table>\n",
       "</div>"
      ],
      "text/plain": [
       "                           HDI Life expectancy Mean years schooling  \\\n",
       "HDI                                                                   \n",
       "Life expectancy           0.79                                        \n",
       "Mean years schooling      0.84            0.54                        \n",
       "Expected years schooling  0.83             0.6                 0.62   \n",
       "GNIpc                     0.63            0.44                 0.51   \n",
       "\n",
       "                         Expected years schooling GNIpc  \n",
       "HDI                                                      \n",
       "Life expectancy                                          \n",
       "Mean years schooling                                     \n",
       "Expected years schooling                                 \n",
       "GNIpc                                        0.46        "
      ]
     },
     "execution_count": 12,
     "metadata": {},
     "output_type": "execute_result"
    }
   ],
   "source": [
    "corr"
   ]
  },
  {
   "cell_type": "code",
   "execution_count": 13,
   "id": "24caaaa8",
   "metadata": {},
   "outputs": [
    {
     "name": "stdout",
     "output_type": "stream",
     "text": [
      "\\begin{tabular}{llllll}\n",
      "\\toprule\n",
      "{} &   HDI & Life expectancy & Mean years schooling & Expected years schooling & GNIpc \\\\\n",
      "\\midrule\n",
      "HDI                      &       &                 &                      &                          &       \\\\\n",
      "Life expectancy          &  0.79 &                 &                      &                          &       \\\\\n",
      "Mean years schooling     &  0.84 &            0.54 &                      &                          &       \\\\\n",
      "Expected years schooling &  0.83 &             0.6 &                 0.62 &                          &       \\\\\n",
      "GNIpc                    &  0.63 &            0.44 &                 0.51 &                     0.46 &       \\\\\n",
      "\\bottomrule\n",
      "\\end{tabular}\n",
      "\n"
     ]
    }
   ],
   "source": [
    "print(corr.to_latex())"
   ]
  },
  {
   "cell_type": "code",
   "execution_count": 14,
   "id": "6ab829d3",
   "metadata": {},
   "outputs": [
    {
     "data": {
      "text/html": [
       "<style  type=\"text/css\" >\n",
       "#T_cec1f_row0_col0,#T_cec1f_row0_col1,#T_cec1f_row0_col2,#T_cec1f_row0_col3,#T_cec1f_row0_col4,#T_cec1f_row1_col1,#T_cec1f_row1_col2,#T_cec1f_row1_col3,#T_cec1f_row1_col4,#T_cec1f_row2_col2,#T_cec1f_row2_col3,#T_cec1f_row2_col4,#T_cec1f_row3_col3,#T_cec1f_row3_col4,#T_cec1f_row4_col4{\n",
       "            background-color:  #000000;\n",
       "            color:  #f1f1f1;\n",
       "            background-color:  #f1f1f1;\n",
       "        }#T_cec1f_row1_col0{\n",
       "            background-color:  #045483;\n",
       "            color:  #f1f1f1;\n",
       "        }#T_cec1f_row2_col0{\n",
       "            background-color:  #034e7b;\n",
       "            color:  #f1f1f1;\n",
       "        }#T_cec1f_row2_col1{\n",
       "            background-color:  #056dab;\n",
       "            color:  #f1f1f1;\n",
       "        }#T_cec1f_row3_col0{\n",
       "            background-color:  #034f7d;\n",
       "            color:  #f1f1f1;\n",
       "        }#T_cec1f_row3_col1{\n",
       "            background-color:  #0567a1;\n",
       "            color:  #f1f1f1;\n",
       "        }#T_cec1f_row3_col2{\n",
       "            background-color:  #05659f;\n",
       "            color:  #f1f1f1;\n",
       "        }#T_cec1f_row4_col0{\n",
       "            background-color:  #04649e;\n",
       "            color:  #f1f1f1;\n",
       "        }#T_cec1f_row4_col1{\n",
       "            background-color:  #1077b4;\n",
       "            color:  #f1f1f1;\n",
       "        }#T_cec1f_row4_col2{\n",
       "            background-color:  #056fae;\n",
       "            color:  #f1f1f1;\n",
       "        }#T_cec1f_row4_col3{\n",
       "            background-color:  #0c74b2;\n",
       "            color:  #f1f1f1;\n",
       "        }</style><table id=\"T_cec1f_\" ><thead>    <tr>        <th class=\"blank level0\" ></th>        <th class=\"col_heading level0 col0\" >HDI</th>        <th class=\"col_heading level0 col1\" >Life expectancy</th>        <th class=\"col_heading level0 col2\" >Mean years schooling</th>        <th class=\"col_heading level0 col3\" >Expected years schooling</th>        <th class=\"col_heading level0 col4\" >GNIpc</th>    </tr></thead><tbody>\n",
       "                <tr>\n",
       "                        <th id=\"T_cec1f_level0_row0\" class=\"row_heading level0 row0\" >HDI</th>\n",
       "                        <td id=\"T_cec1f_row0_col0\" class=\"data row0 col0\" >nan</td>\n",
       "                        <td id=\"T_cec1f_row0_col1\" class=\"data row0 col1\" >nan</td>\n",
       "                        <td id=\"T_cec1f_row0_col2\" class=\"data row0 col2\" >nan</td>\n",
       "                        <td id=\"T_cec1f_row0_col3\" class=\"data row0 col3\" >nan</td>\n",
       "                        <td id=\"T_cec1f_row0_col4\" class=\"data row0 col4\" >nan</td>\n",
       "            </tr>\n",
       "            <tr>\n",
       "                        <th id=\"T_cec1f_level0_row1\" class=\"row_heading level0 row1\" >Life expectancy</th>\n",
       "                        <td id=\"T_cec1f_row1_col0\" class=\"data row1 col0\" >0.79</td>\n",
       "                        <td id=\"T_cec1f_row1_col1\" class=\"data row1 col1\" >nan</td>\n",
       "                        <td id=\"T_cec1f_row1_col2\" class=\"data row1 col2\" >nan</td>\n",
       "                        <td id=\"T_cec1f_row1_col3\" class=\"data row1 col3\" >nan</td>\n",
       "                        <td id=\"T_cec1f_row1_col4\" class=\"data row1 col4\" >nan</td>\n",
       "            </tr>\n",
       "            <tr>\n",
       "                        <th id=\"T_cec1f_level0_row2\" class=\"row_heading level0 row2\" >Mean years schooling</th>\n",
       "                        <td id=\"T_cec1f_row2_col0\" class=\"data row2 col0\" >0.84</td>\n",
       "                        <td id=\"T_cec1f_row2_col1\" class=\"data row2 col1\" >0.54</td>\n",
       "                        <td id=\"T_cec1f_row2_col2\" class=\"data row2 col2\" >nan</td>\n",
       "                        <td id=\"T_cec1f_row2_col3\" class=\"data row2 col3\" >nan</td>\n",
       "                        <td id=\"T_cec1f_row2_col4\" class=\"data row2 col4\" >nan</td>\n",
       "            </tr>\n",
       "            <tr>\n",
       "                        <th id=\"T_cec1f_level0_row3\" class=\"row_heading level0 row3\" >Expected years schooling</th>\n",
       "                        <td id=\"T_cec1f_row3_col0\" class=\"data row3 col0\" >0.83</td>\n",
       "                        <td id=\"T_cec1f_row3_col1\" class=\"data row3 col1\" >0.60</td>\n",
       "                        <td id=\"T_cec1f_row3_col2\" class=\"data row3 col2\" >0.62</td>\n",
       "                        <td id=\"T_cec1f_row3_col3\" class=\"data row3 col3\" >nan</td>\n",
       "                        <td id=\"T_cec1f_row3_col4\" class=\"data row3 col4\" >nan</td>\n",
       "            </tr>\n",
       "            <tr>\n",
       "                        <th id=\"T_cec1f_level0_row4\" class=\"row_heading level0 row4\" >GNIpc</th>\n",
       "                        <td id=\"T_cec1f_row4_col0\" class=\"data row4 col0\" >0.63</td>\n",
       "                        <td id=\"T_cec1f_row4_col1\" class=\"data row4 col1\" >0.44</td>\n",
       "                        <td id=\"T_cec1f_row4_col2\" class=\"data row4 col2\" >0.51</td>\n",
       "                        <td id=\"T_cec1f_row4_col3\" class=\"data row4 col3\" >0.46</td>\n",
       "                        <td id=\"T_cec1f_row4_col4\" class=\"data row4 col4\" >nan</td>\n",
       "            </tr>\n",
       "    </tbody></table>"
      ],
      "text/plain": [
       "<pandas.io.formats.style.Styler at 0x7fbaa2574e90>"
      ]
     },
     "execution_count": 14,
     "metadata": {},
     "output_type": "execute_result"
    }
   ],
   "source": [
    "a"
   ]
  },
  {
   "cell_type": "code",
   "execution_count": 15,
   "id": "44835cc8",
   "metadata": {},
   "outputs": [],
   "source": [
    "mat_df[\"ISO_Code\"] = mat_df_countries\n",
    "\n",
    "for task in mat_df.columns[:-1]:\n",
    "    mat_df[\"Within-ADM0 \" + task] = df_to_demeaned_y_vars(task, mat_df, method=\"calc\")\n",
    "    mat_df.pop(task)"
   ]
  },
  {
   "cell_type": "code",
   "execution_count": 16,
   "id": "857760a1",
   "metadata": {},
   "outputs": [],
   "source": [
    "mat_df_countries = mat_df.pop(\"ISO_Code\")\n",
    "\n",
    "corr = mat_df.corr()\n",
    "\n",
    "corr.columns = mat_df.columns\n",
    "corr.index = mat_df.columns\n",
    "\n",
    "corr = corr ** 2"
   ]
  },
  {
   "cell_type": "code",
   "execution_count": 17,
   "id": "77d92f52",
   "metadata": {},
   "outputs": [],
   "source": [
    "\n",
    "mask = np.zeros_like(corr, dtype=bool)\n",
    "mask[np.triu_indices_from(mask)] = True\n",
    "corr[mask] = np.nan\n",
    "b=(corr\n",
    " .style\n",
    " .background_gradient(axis=None, vmin=-1, vmax=1)\n",
    " .highlight_null(null_color='#f1f1f1')  # Color NaNs grey\n",
    " .set_precision(2))"
   ]
  },
  {
   "cell_type": "code",
   "execution_count": 18,
   "id": "331c927d",
   "metadata": {},
   "outputs": [],
   "source": [
    "corr = corr.round(2)\n",
    "corr[corr.isnull()] = \"\""
   ]
  },
  {
   "cell_type": "code",
   "execution_count": 19,
   "id": "9cb48768",
   "metadata": {},
   "outputs": [
    {
     "data": {
      "text/html": [
       "<div>\n",
       "<style scoped>\n",
       "    .dataframe tbody tr th:only-of-type {\n",
       "        vertical-align: middle;\n",
       "    }\n",
       "\n",
       "    .dataframe tbody tr th {\n",
       "        vertical-align: top;\n",
       "    }\n",
       "\n",
       "    .dataframe thead th {\n",
       "        text-align: right;\n",
       "    }\n",
       "</style>\n",
       "<table border=\"1\" class=\"dataframe\">\n",
       "  <thead>\n",
       "    <tr style=\"text-align: right;\">\n",
       "      <th></th>\n",
       "      <th>Within-ADM0 HDI</th>\n",
       "      <th>Within-ADM0 Life expectancy</th>\n",
       "      <th>Within-ADM0 Mean years schooling</th>\n",
       "      <th>Within-ADM0 Expected years schooling</th>\n",
       "      <th>Within-ADM0 GNIpc</th>\n",
       "    </tr>\n",
       "  </thead>\n",
       "  <tbody>\n",
       "    <tr>\n",
       "      <th>Within-ADM0 HDI</th>\n",
       "      <td></td>\n",
       "      <td></td>\n",
       "      <td></td>\n",
       "      <td></td>\n",
       "      <td></td>\n",
       "    </tr>\n",
       "    <tr>\n",
       "      <th>Within-ADM0 Life expectancy</th>\n",
       "      <td>0.32</td>\n",
       "      <td></td>\n",
       "      <td></td>\n",
       "      <td></td>\n",
       "      <td></td>\n",
       "    </tr>\n",
       "    <tr>\n",
       "      <th>Within-ADM0 Mean years schooling</th>\n",
       "      <td>0.83</td>\n",
       "      <td>0.14</td>\n",
       "      <td></td>\n",
       "      <td></td>\n",
       "      <td></td>\n",
       "    </tr>\n",
       "    <tr>\n",
       "      <th>Within-ADM0 Expected years schooling</th>\n",
       "      <td>0.65</td>\n",
       "      <td>0.11</td>\n",
       "      <td>0.46</td>\n",
       "      <td></td>\n",
       "      <td></td>\n",
       "    </tr>\n",
       "    <tr>\n",
       "      <th>Within-ADM0 GNIpc</th>\n",
       "      <td>0.2</td>\n",
       "      <td>0.04</td>\n",
       "      <td>0.11</td>\n",
       "      <td>0.1</td>\n",
       "      <td></td>\n",
       "    </tr>\n",
       "  </tbody>\n",
       "</table>\n",
       "</div>"
      ],
      "text/plain": [
       "                                     Within-ADM0 HDI  \\\n",
       "Within-ADM0 HDI                                        \n",
       "Within-ADM0 Life expectancy                     0.32   \n",
       "Within-ADM0 Mean years schooling                0.83   \n",
       "Within-ADM0 Expected years schooling            0.65   \n",
       "Within-ADM0 GNIpc                                0.2   \n",
       "\n",
       "                                     Within-ADM0 Life expectancy  \\\n",
       "Within-ADM0 HDI                                                    \n",
       "Within-ADM0 Life expectancy                                        \n",
       "Within-ADM0 Mean years schooling                            0.14   \n",
       "Within-ADM0 Expected years schooling                        0.11   \n",
       "Within-ADM0 GNIpc                                           0.04   \n",
       "\n",
       "                                     Within-ADM0 Mean years schooling  \\\n",
       "Within-ADM0 HDI                                                         \n",
       "Within-ADM0 Life expectancy                                             \n",
       "Within-ADM0 Mean years schooling                                        \n",
       "Within-ADM0 Expected years schooling                             0.46   \n",
       "Within-ADM0 GNIpc                                                0.11   \n",
       "\n",
       "                                     Within-ADM0 Expected years schooling  \\\n",
       "Within-ADM0 HDI                                                             \n",
       "Within-ADM0 Life expectancy                                                 \n",
       "Within-ADM0 Mean years schooling                                            \n",
       "Within-ADM0 Expected years schooling                                        \n",
       "Within-ADM0 GNIpc                                                     0.1   \n",
       "\n",
       "                                     Within-ADM0 GNIpc  \n",
       "Within-ADM0 HDI                                         \n",
       "Within-ADM0 Life expectancy                             \n",
       "Within-ADM0 Mean years schooling                        \n",
       "Within-ADM0 Expected years schooling                    \n",
       "Within-ADM0 GNIpc                                       "
      ]
     },
     "execution_count": 19,
     "metadata": {},
     "output_type": "execute_result"
    }
   ],
   "source": [
    "corr"
   ]
  },
  {
   "cell_type": "code",
   "execution_count": 20,
   "id": "9519886a",
   "metadata": {},
   "outputs": [
    {
     "name": "stdout",
     "output_type": "stream",
     "text": [
      "\\begin{tabular}{llllll}\n",
      "\\toprule\n",
      "{} & Within-ADM0 HDI & Within-ADM0 Life expectancy & Within-ADM0 Mean years schooling & Within-ADM0 Expected years schooling & Within-ADM0 GNIpc \\\\\n",
      "\\midrule\n",
      "Within-ADM0 HDI                      &                 &                             &                                  &                                      &                   \\\\\n",
      "Within-ADM0 Life expectancy          &            0.32 &                             &                                  &                                      &                   \\\\\n",
      "Within-ADM0 Mean years schooling     &            0.83 &                        0.14 &                                  &                                      &                   \\\\\n",
      "Within-ADM0 Expected years schooling &            0.65 &                        0.11 &                             0.46 &                                      &                   \\\\\n",
      "Within-ADM0 GNIpc                    &             0.2 &                        0.04 &                             0.11 &                                  0.1 &                   \\\\\n",
      "\\bottomrule\n",
      "\\end{tabular}\n",
      "\n"
     ]
    }
   ],
   "source": [
    "print(corr.to_latex())"
   ]
  },
  {
   "cell_type": "code",
   "execution_count": null,
   "id": "b7c23954",
   "metadata": {},
   "outputs": [],
   "source": []
  }
 ],
 "metadata": {
  "kernelspec": {
   "display_name": "Python 3 (ipykernel)",
   "language": "python",
   "name": "python3"
  },
  "language_info": {
   "codemirror_mode": {
    "name": "ipython",
    "version": 3
   },
   "file_extension": ".py",
   "mimetype": "text/x-python",
   "name": "python",
   "nbconvert_exporter": "python",
   "pygments_lexer": "ipython3",
   "version": "3.7.10"
  }
 },
 "nbformat": 4,
 "nbformat_minor": 5
}
