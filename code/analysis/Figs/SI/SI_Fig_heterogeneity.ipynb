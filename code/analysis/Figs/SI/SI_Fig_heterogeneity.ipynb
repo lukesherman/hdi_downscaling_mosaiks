{
 "cells": [
  {
   "cell_type": "code",
   "execution_count": 1,
   "metadata": {},
   "outputs": [
    {
     "name": "stdout",
     "output_type": "stream",
     "text": [
      "env variable MOSAIKS_HOME not defined; setting to: \"/shares/maps100/code/code_LS/hdi_downscaling\"\n",
      "If not desired, please reset os.environ[\"MOSAIKS_NAME\"]\n"
     ]
    }
   ],
   "source": [
    "import os\n",
    "repo_dir = os.environ.get(\"REPO_DIR\")\n",
    "code_dir = os.path.join(repo_dir, \"code/\")\n",
    "data_dir = os.path.join(repo_dir, \"data/\")\n",
    "os.chdir(code_dir)\n",
    "\n",
    "import matplotlib.pyplot as plt\n",
    "import numpy as np\n",
    "import scipy.linalg\n",
    "import pickle\n",
    "import pandas as pd\n",
    "import sklearn \n",
    "import sys\n",
    "import pandas as pd\n",
    "from importlib import reload\n",
    "\n",
    "import matplotlib\n",
    "\n",
    "from sklearn.model_selection import KFold\n",
    "from sklearn.linear_model import Ridge\n",
    "import seaborn as sns\n",
    "import geopandas as gpd\n",
    "from mpl_toolkits.axes_grid1 import make_axes_locatable\n",
    "\n",
    "from mosaiks.utils.imports import *\n",
    "from matplotlib.patches import Patch\n",
    "\n",
    "# Key prediction functions are here\n",
    "from analysis.prediction_utils import (get_truth_preds_from_kfold_results, get_train_idxs,\n",
    "                                            test_train_split, df_to_demeaned_y_vars, \n",
    "                                            X_matrix_to_demeaned_X, make_train_pred_scatterplot as make_scatterplot)"
   ]
  },
  {
   "cell_type": "markdown",
   "metadata": {},
   "source": [
    "### First let's look at within-country performance for the best model"
   ]
  },
  {
   "cell_type": "code",
   "execution_count": 2,
   "metadata": {},
   "outputs": [],
   "source": [
    "## Within country model\n",
    "\n",
    "model_directory = data_dir + \"model_data/\"\n",
    "\n",
    "path = (model_directory+\n",
    "           \"within_country_rcf_and_nl_demeaned_solve_all_outcomes_country_fold\"\n",
    "           \"_DENSE_pop_weight=True_dmsp_hist_bins_GPW_pop_weighted.pkl\")\n",
    "nl_and_rcf_demeaned_kfold_dict = pickle.load(open(path, \"rb\"))\n",
    "\n",
    "\n",
    "path = (model_directory+\n",
    "           \"within_country_demeaned_kfold_solve_all_outcomes_country_fold_DENSE_pop_weight=True.pkl\")\n",
    "demeaned_kfold_dict = pickle.load(open(path, \"rb\"))\n",
    "\n",
    "\n",
    "\n",
    "path = (model_directory+\n",
    "           \"within_country_nl_demeaned_solve_all_outcomes_country_fold_dmsp_hist_bins_GPW_pop_weighted.pkl\")\n",
    "nl_demeaned_kfold_dict = pickle.load(open(path, \"rb\"))\n"
   ]
  },
  {
   "cell_type": "markdown",
   "metadata": {},
   "source": [
    "## Def functions and params"
   ]
  },
  {
   "cell_type": "code",
   "execution_count": 3,
   "metadata": {},
   "outputs": [],
   "source": [
    "task = \"Sub-national HDI\""
   ]
  },
  {
   "cell_type": "code",
   "execution_count": 4,
   "metadata": {},
   "outputs": [],
   "source": [
    "# Read this just to get country level HDIs\n",
    "\n",
    "directory = data_dir + \"int/GDL_HDI/\"\n",
    "\n",
    "country_df = pd.read_pickle(directory + \"HDI_indicators_and_indices_adm0_clean.p\")\n",
    "gpdf_country = pd.read_pickle(directory+\"HDI_ADM0_dissolved_shapefile.p\")"
   ]
  },
  {
   "cell_type": "code",
   "execution_count": 5,
   "metadata": {},
   "outputs": [],
   "source": [
    "bins =  [0.35,0.5,0.6,0.7,.8,.9,1]\n",
    "\n",
    "cmap = matplotlib.cm.get_cmap('plasma')\n",
    "\n",
    "norm = matplotlib.colors.Normalize(vmin=1, vmax=3)\n",
    "\n",
    "font = {'size'   : 15}\n",
    "\n",
    "matplotlib.rc('font', **font)"
   ]
  },
  {
   "cell_type": "code",
   "execution_count": 6,
   "metadata": {},
   "outputs": [],
   "source": [
    "def get_truth_preds_df_from_kfold_dict(kfold_dict, task):\n",
    "    kfold_results = kfold_dict[task]\n",
    "    truth, preds = get_truth_preds_from_kfold_results(kfold_results)\n",
    "\n",
    "    output_indxs = np.hstack(kfold_results[\"locations_test\"])\n",
    "    \n",
    "    true_preds = pd.DataFrame({\"truth\" : truth.flatten(), \"preds\" : preds.flatten()}, index=output_indxs)\n",
    "    true_preds[\"country\"] = pd.Series(output_indxs).apply(lambda x: x[:3]).to_numpy()\n",
    "    \n",
    "    return true_preds"
   ]
  },
  {
   "cell_type": "code",
   "execution_count": 7,
   "metadata": {},
   "outputs": [],
   "source": [
    "def get_binned_performance(kfold_dict, task, bins = [0.35,0.5,0.6,0.7,.8,.9,1], \n",
    "                               df = country_df, truth_key=\"Sub-national HDI\", log_truth=False, \n",
    "                           match_to_country=True, metric=\"r2_score\"):\n",
    "    \"\"\"\n",
    "    bins includes the left and right bounds on the set of bins\n",
    "    \n",
    "    \"\"\"\n",
    "    \n",
    "    truths = df[[truth_key]]\n",
    "    \n",
    "    if log_truth:\n",
    "        truths = np.log10(truths)\n",
    "    \n",
    "    true_preds = get_truth_preds_df_from_kfold_dict(kfold_dict, task)\n",
    "    \n",
    "    binned_r2s = []\n",
    "    n_obs = []\n",
    "    \n",
    "    for i in range(len(bins)-1):\n",
    "        indxs = truths[ (truths[truth_key] >= bins[i]) & (truths[truth_key] < bins[i+1] )].index\n",
    "        \n",
    "        if match_to_country:\n",
    "            binned = true_preds[true_preds[\"country\"].isin(indxs)]\n",
    "            n_obs.append(len(indxs))\n",
    "    \n",
    "        else:\n",
    "            binned = true_preds[true_preds.index.isin(indxs)]\n",
    "            n_obs.append(len(binned))\n",
    "        \n",
    "        if metric == \"r2_score\":\n",
    "            binned_r2s.append(sklearn.metrics.r2_score(binned[\"truth\"], binned[\"preds\"]))\n",
    "        elif metric == \"pearson\":\n",
    "            binned_r2s.append(np.corrcoef(binned[\"truth\"], binned[\"preds\"])[0,1])\n",
    "        else: raise NotImplementedError\n",
    "        \n",
    "    return binned_r2s, n_obs"
   ]
  },
  {
   "cell_type": "code",
   "execution_count": 8,
   "metadata": {},
   "outputs": [],
   "source": [
    "def binned_metrics_from_df(df, bins=bins, truth_df=country_df, truth_key=\"Sub-national HDI\", \n",
    "                           log_truth=False, match_to_country=True, metric=\"r2_score\"):\n",
    "    \n",
    "    truths = truth_df[[truth_key]]\n",
    "    \n",
    "    if log_truth:\n",
    "        truths = np.log10(truths)\n",
    "\n",
    "    binned_r2s = []\n",
    "    n_obs = []\n",
    "    binned_rs = []\n",
    "\n",
    "    for i in range(len(bins)-1):\n",
    "        indxs =truths[ (truths[truth_key] >= bins[i]) & (truths[truth_key] < bins[i+1] )].index\n",
    "        \n",
    "        if match_to_country:\n",
    "            binned = df[df[\"alpha-3\"].isin(indxs)]\n",
    "            n_obs.append(len(binned))\n",
    "    \n",
    "        else:\n",
    "            binned = df[df.index.isin(indxs)]\n",
    "            n_obs.append(len(binned))\n",
    "        \n",
    "        \n",
    "        if len(binned) == 0:\n",
    "            binned_r2s.append(0)\n",
    "            binned_rs.append(0)\n",
    "            continue\n",
    "            \n",
    "        if metric == \"r2_score\":\n",
    "            binned_r2s.append(sklearn.metrics.r2_score(binned[\"true_demean_adm1\"], binned[\"preds_demean_adm1\"]))\n",
    "        elif metic == \"pearson\":\n",
    "            binned_rs.append(np.corrcoef(binned[\"true_demean_adm1\"], binned[\"preds_demean_adm1\"])[0,1])\n",
    "        else:\n",
    "            raise NotImplementedError\n",
    "    \n",
    "    return binned_rs, binned_r2s, n_obs"
   ]
  },
  {
   "cell_type": "markdown",
   "metadata": {},
   "source": [
    "## Analysis of HDI heterogeneity for  within-ADM0 models"
   ]
  },
  {
   "cell_type": "code",
   "execution_count": 9,
   "metadata": {},
   "outputs": [],
   "source": [
    "demeaned_R2s, n_obs = get_binned_performance(demeaned_kfold_dict, task, bins=bins, df=country_df, \n",
    "                                             match_to_country=True)\n",
    "\n",
    "nl_demeaned_R2s, _ = get_binned_performance(nl_demeaned_kfold_dict, task, bins=bins, df=country_df)\n",
    "\n",
    "nl_rcf_R2s, _ = get_binned_performance(nl_and_rcf_demeaned_kfold_dict, task, bins=bins, df=country_df)"
   ]
  },
  {
   "cell_type": "code",
   "execution_count": 10,
   "metadata": {
    "scrolled": false
   },
   "outputs": [
    {
     "data": {
      "image/png": "[encoded data removed]",
      "text/plain": [
       "<Figure size 1200x780 with 2 Axes>"
      ]
     },
     "metadata": {},
     "output_type": "display_data"
    }
   ],
   "source": [
    "fig, ax = plt.subplots(2,1, figsize=(20*.6,13*.6), gridspec_kw={'height_ratios': [4.5, 1]},)\n",
    "#ax2 = ax.twinx()\n",
    "\n",
    "#x_axis = np.array(np.array([bins[1:], bins[:-1]]).mean(axis=0))\n",
    "x_axis = np.array(bins)\n",
    "\n",
    "\n",
    "ax[0].step(x_axis,  [demeaned_R2s[0]]+demeaned_R2s, label = \"MOSAIKS\", color = cmap(norm(1)), linewidth=3)\n",
    "ax[0].step(x_axis,  [nl_demeaned_R2s[0]]+nl_demeaned_R2s,  label = \"NL\", color = cmap(norm(2)), linewidth=3)\n",
    "ax[0].step(x_axis,  [nl_rcf_R2s[0]]+ nl_rcf_R2s, label = \"MOSAIKS + NL\", color = cmap(norm(2.5)), linewidth=3)\n",
    "\n",
    "ax[0].legend()\n",
    "ax[0].set_ylabel(\"Within-country $R^2$\")\n",
    "ax[1].set_xlabel(\"Country-level HDI\")\n",
    "#ax.set_title(\"Demeaned $R^2$ performance by HDI bin\")\n",
    "ax[0].set_ylim(0,0.65)\n",
    "ax[0].xaxis.set_visible(False)\n",
    "\n",
    "\n",
    "ax[1].bar( bins[:-1], height = n_obs,width= np.array(bins[1:])-np.array(bins[:-1]), color=\"gray\", alpha=0.4, align=\"edge\")\n",
    "ax[1].set_ylabel(\"Num countries\")\n",
    "\n",
    "fig.savefig(data_dir + \"figures/HDI_heterogeneity.pdf\", dpi=300)\n",
    "\n"
   ]
  },
  {
   "cell_type": "markdown",
   "metadata": {},
   "source": [
    "## Let's add a map of heterogeneity\n",
    "\n",
    "First, we need to get our out of sample test set predictions"
   ]
  },
  {
   "cell_type": "code",
   "execution_count": 11,
   "metadata": {},
   "outputs": [],
   "source": [
    "path = data_dir + \"preds/hdi_test_set_preds_df_demean_rcf_nl.p\"\n",
    "test_preds = pd.read_pickle(path)\n",
    "test_preds = test_preds.drop(columns = [\"truth\", \"preds\",\"add_back_country_mean\",\n",
    "                                        \"true country mean\", \"pred country mean\"])\n",
    "\n",
    "test_preds = test_preds.rename(columns = {\"preds_demean\":\"preds\", \"true_demean\":\"truth\"})\n",
    "\n",
    "test_preds[\"country\"] = pd.Series(test_preds.index).apply(lambda x: x[:3]).to_numpy()\n",
    "test_preds.index.name = None"
   ]
  },
  {
   "cell_type": "code",
   "execution_count": 12,
   "metadata": {},
   "outputs": [],
   "source": [
    "true_pred = get_truth_preds_df_from_kfold_dict(nl_and_rcf_demeaned_kfold_dict, task)"
   ]
  },
  {
   "cell_type": "code",
   "execution_count": 13,
   "metadata": {},
   "outputs": [],
   "source": [
    "df = pd.concat([true_pred, test_preds], axis=0)"
   ]
  },
  {
   "cell_type": "code",
   "execution_count": 14,
   "metadata": {},
   "outputs": [],
   "source": [
    "within_adm0_r2s = {}\n",
    "within_adm0_pearson = {}\n",
    "country_sd = {}\n",
    "\n",
    "for country in df[\"country\"].unique():\n",
    "    subset = df[df[\"country\"] == country]\n",
    "    \n",
    "    if len(subset) < 2:\n",
    "        within_adm0_pearson[country] = np.nan\n",
    "        within_adm0_r2s[country] = np.nan\n",
    "        country_sd[country] = np.nan\n",
    "        \n",
    "    else:\n",
    "        within_adm0_r2s[country] = sklearn.metrics.r2_score(subset[\"truth\"], subset[\"preds\"])\n",
    "        within_adm0_pearson[country] = np.corrcoef(subset[\"truth\"], subset[\"preds\"])[0,1]\n",
    "        country_sd[country] = np.std(subset[\"truth\"])\n",
    "    "
   ]
  },
  {
   "cell_type": "code",
   "execution_count": 15,
   "metadata": {},
   "outputs": [],
   "source": [
    "metrics = pd.DataFrame([within_adm0_r2s,within_adm0_pearson,country_sd]).T.rename(columns = {0:\"r2\",1:\"pearson\",2:\"sd\"})"
   ]
  },
  {
   "cell_type": "code",
   "execution_count": 16,
   "metadata": {},
   "outputs": [],
   "source": [
    "gpdf_country_adm = gpdf_country.merge(metrics, \"left\", left_index=True,right_index=True)"
   ]
  },
  {
   "cell_type": "markdown",
   "metadata": {},
   "source": [
    "### Maps of within-ADM0 performance heterogeneity"
   ]
  },
  {
   "cell_type": "markdown",
   "metadata": {},
   "source": [
    "#### R2"
   ]
  },
  {
   "cell_type": "code",
   "execution_count": 17,
   "metadata": {},
   "outputs": [],
   "source": [
    "legend_elements = [ Patch(facecolor='#966919', alpha=1, hatch = \"//\",\n",
    "                         label='$R^{2}$ < 0'),\n",
    "                  Patch(facecolor='#D3D3D3', alpha=1,\n",
    "                         label='No provincial observations')\n",
    "]"
   ]
  },
  {
   "cell_type": "code",
   "execution_count": 18,
   "metadata": {},
   "outputs": [],
   "source": [
    "## map of r2 heterogeneity \n",
    "\n",
    "# rasterized= True\n",
    "\n",
    "# fig, ax = plt.subplots(1, figsize = (11*1.2,4*1.2))\n",
    "\n",
    "# gpdf_country_adm.plot(color = \"#D3D3D3\", rasterized=rasterized, ax=ax) #background gray\n",
    "\n",
    "# neg_subset = gpdf_country_adm[gpdf_country_adm[\"r2\"] < 0] #Where peformance is negative\n",
    "# subset = gpdf_country_adm [gpdf_country_adm [\"r2\"] > 0 ] # Where performance is positive, with color bar\n",
    "\n",
    "# subset.plot(ax=ax, cmap=\"Oranges\", legend=True, column=\"r2\",rasterized=rasterized,\n",
    "#             legend_kwds = {\"label\": \"Within-country $R^{2}$\"})\n",
    "\n",
    "# neg_subset.plot(ax=ax, color=\"#966919\",alpha=1, label=\"<0\", rasterized=rasterized, hatch=\"//\")\n",
    "\n",
    "# ax.set_xlim(-180,180)\n",
    "\n",
    "# ax.legend(handles=legend_elements, loc = (.75,-.32))\n",
    "\n",
    "# ax.xaxis.set_visible(False)\n",
    "# ax.yaxis.set_visible(False)\n",
    "\n",
    "\n",
    "# fig.savefig(data_dir + \"figures/within-ADM0_HDI_mapped_heterogeneity.pdf\", \n",
    "#             dpi=300,bbox_inches='tight')"
   ]
  },
  {
   "cell_type": "markdown",
   "metadata": {},
   "source": [
    "## Map of SDs"
   ]
  },
  {
   "cell_type": "code",
   "execution_count": 19,
   "metadata": {},
   "outputs": [],
   "source": [
    "legend_elements = [ \n",
    "                  Patch(facecolor='#D3D3D3', alpha=1,\n",
    "                         label='No provincial observations')\n",
    "]"
   ]
  },
  {
   "cell_type": "code",
   "execution_count": 20,
   "metadata": {},
   "outputs": [],
   "source": [
    "## map of r2 heterogeneity \n",
    "\n",
    "# rasterized= True\n",
    "\n",
    "# fig, ax = plt.subplots(1, figsize = (11*1.2,4*1.2))\n",
    "\n",
    "# gpdf_country_adm.plot(color = \"#D3D3D3\", rasterized=rasterized, ax=ax) #background gray\n",
    "\n",
    "# subset = gpdf_country_adm[gpdf_country_adm[\"sd\"] > 0] #Where peformance is negative\n",
    "\n",
    "# subset.plot(ax=ax, cmap=\"Oranges\", legend=True, column=\"sd\",rasterized=rasterized,\n",
    "#             legend_kwds = {\"label\": \"Within-country SD\"})\n",
    "# ax.set_xlim(-180,180)\n",
    "\n",
    "# ax.legend(handles=legend_elements, loc = (.75,-.2))\n",
    "\n",
    "# ax.xaxis.set_visible(False)\n",
    "# ax.yaxis.set_visible(False)\n",
    "\n",
    "\n",
    "# fig.savefig(data_dir + \"figures/within-ADM0_HDI_SD_mapped.pdf\", \n",
    "#             dpi=300,bbox_inches='tight')"
   ]
  },
  {
   "cell_type": "code",
   "execution_count": 21,
   "metadata": {},
   "outputs": [
    {
     "data": {
      "text/plain": [
       "0.005354126134736341"
      ]
     },
     "execution_count": 21,
     "metadata": {},
     "output_type": "execute_result"
    }
   ],
   "source": [
    "gpdf_country_adm[\"sd\"].min()"
   ]
  },
  {
   "cell_type": "markdown",
   "metadata": {},
   "source": [
    "## Now let's examine Heterogeneity of DHS cluster preds"
   ]
  },
  {
   "cell_type": "code",
   "execution_count": 22,
   "metadata": {},
   "outputs": [],
   "source": [
    "path = data_dir + \"preds/demean_iwi_rcf_nl_at_dhs.p\"\n",
    "dhs = pd.read_pickle(path)\n",
    "\n",
    "path =  data_dir + \"preds/demean_iwi_rcf_at_dhs.p\"\n",
    "dhs_rcf = pd.read_pickle(path)\n",
    "\n",
    "path =  data_dir + \"preds/demean_iwi_nl_at_dhs.p\"\n",
    "dhs_nl = pd.read_pickle(path)"
   ]
  },
  {
   "cell_type": "code",
   "execution_count": 23,
   "metadata": {},
   "outputs": [],
   "source": [
    "r2_perf = {}\n",
    "pearson_perf = {}\n",
    "within_adm1_sd = {}\n",
    "\n",
    "for country in dhs[\"alpha-3\"].unique():\n",
    "    subset = dhs[dhs[\"alpha-3\"] == country]\n",
    "    r2_perf[country] = sklearn.metrics.r2_score(subset[\"true_demean_adm1\"],subset[\"preds_demean_adm1\"])\n",
    "    pearson_perf[country] = np.corrcoef(subset[\"true_demean_adm1\"],subset[\"preds_demean_adm1\"])[0,1]\n",
    "    within_adm1_sd[country] = np.std(subset[\"true_demean_adm1\"])\n",
    "    "
   ]
  },
  {
   "cell_type": "markdown",
   "metadata": {},
   "source": [
    "## Now we just map DHS performance"
   ]
  },
  {
   "cell_type": "code",
   "execution_count": 24,
   "metadata": {},
   "outputs": [],
   "source": [
    "gpdf_dhs = gpdf_country.join(pd.Series(r2_perf).rename(\"r2\"), how=\"inner\")"
   ]
  },
  {
   "cell_type": "markdown",
   "metadata": {},
   "source": [
    "### R2"
   ]
  },
  {
   "cell_type": "code",
   "execution_count": 25,
   "metadata": {},
   "outputs": [],
   "source": [
    "legend_elements = [                    Patch(facecolor='#966919', alpha=1, hatch = \"//\",\n",
    "                         label=r'$R^{2}$ < 0'),\n",
    "                   Patch(facecolor='#D3D3D3', alpha=1,\n",
    "                          label = \"No DHS data\")\n",
    "                  ]\n"
   ]
  },
  {
   "cell_type": "code",
   "execution_count": 26,
   "metadata": {},
   "outputs": [],
   "source": [
    "# rasterized = True\n",
    "\n",
    "# fig, ax = plt.subplots(1, figsize = (10*1.15,5*1.15))\n",
    "\n",
    "# subset = gpdf_dhs[gpdf_dhs[\"r2\"] >= 0]\n",
    "\n",
    "# neg_subset = gpdf_dhs[gpdf_dhs[\"r2\"] < 0]\n",
    "\n",
    "# gpdf_country.plot(color=\"gray\", alpha=0.3, ax=ax, rasterized=rasterized)\n",
    "\n",
    "# subset.plot(ax=ax, column = \"r2\", legend=True, legend_kwds = {\"label\":r\"Within-province $R^{2}$\"},\n",
    "#             cmap=\"Oranges\", rasterized=rasterized)\n",
    "\n",
    "# neg_subset.plot(ax=ax, color = \"#966919\", rasterized=rasterized, hatch=\"//\")\n",
    "\n",
    "# ax.xaxis.set_visible(False)\n",
    "# ax.yaxis.set_visible(False)\n",
    "\n",
    "# ax.legend(handles = legend_elements,loc = (.75,-.2))\n",
    "\n",
    "# ax.set_xlim(-25,128)\n",
    "# ax.set_ylim(-40,43)\n",
    "\n",
    "# fig.savefig(data_dir + \"figures/within-ADM1_IWI_mapped_perf.pdf\", \n",
    "#             dpi=300,bbox_inches='tight')"
   ]
  },
  {
   "cell_type": "code",
   "execution_count": 27,
   "metadata": {},
   "outputs": [],
   "source": [
    "legend_elements = [ \n",
    "                  Patch(facecolor='#D3D3D3', alpha=1,\n",
    "                         label='No DHS observations')\n",
    "]"
   ]
  },
  {
   "cell_type": "code",
   "execution_count": 28,
   "metadata": {},
   "outputs": [],
   "source": [
    "### Now make SD\n",
    "# gpdf_dhs = gpdf_country.join(pd.Series(within_adm1_sd).rename(\"sd\"), how=\"inner\")\n",
    "\n",
    "\n",
    "# rasterized = True\n",
    "\n",
    "# fig, ax = plt.subplots(1, figsize = (10*1.15,5*1.15))\n",
    "\n",
    "# subset = gpdf_dhs[gpdf_dhs[\"sd\"] >= 0]\n",
    "\n",
    "\n",
    "# gpdf_country.plot(color=\"gray\", alpha=0.3, ax=ax, rasterized=rasterized)\n",
    "\n",
    "# subset.plot(ax=ax, column = \"sd\", legend=True, legend_kwds = {\"label\":r\"Within-province SD\"},\n",
    "#             cmap=\"Oranges\", rasterized=rasterized)\n",
    "\n",
    "\n",
    "# ax.xaxis.set_visible(False)\n",
    "# ax.yaxis.set_visible(False)\n",
    "\n",
    "# ax.legend(handles = legend_elements,loc = (.75,-.2))\n",
    "\n",
    "# ax.set_xlim(-25,128)\n",
    "# ax.set_ylim(-40,43)\n",
    "\n",
    "# fig.savefig(data_dir + \"figures/within-ADM1_IWI_SD_mapped.pdf\", \n",
    "#             dpi=300,bbox_inches='tight')\n"
   ]
  },
  {
   "cell_type": "markdown",
   "metadata": {},
   "source": [
    "### Bin by HDI"
   ]
  },
  {
   "cell_type": "code",
   "execution_count": 29,
   "metadata": {},
   "outputs": [],
   "source": [
    "binned_rs_rcf_and_nl, binned_r2s_rcf_and_nl , n_obs = binned_metrics_from_df(dhs, bins, match_to_country=True)\n",
    "binned_rs_rcf, binned_r2s_rcf , _ = binned_metrics_from_df(dhs_rcf, bins)\n",
    "binned_rs_nl, binned_r2s_nl, _ = binned_metrics_from_df(dhs_nl, bins)"
   ]
  },
  {
   "cell_type": "code",
   "execution_count": 30,
   "metadata": {},
   "outputs": [
    {
     "data": {
      "text/plain": [
       "[0.4764455016921021,\n",
       " 0.4620005091812003,\n",
       " 0.36278868771355144,\n",
       " 0.23891025108082875,\n",
       " 0,\n",
       " 0]"
      ]
     },
     "execution_count": 30,
     "metadata": {},
     "output_type": "execute_result"
    }
   ],
   "source": [
    "binned_r2s_rcf_and_nl"
   ]
  },
  {
   "cell_type": "code",
   "execution_count": 31,
   "metadata": {},
   "outputs": [
    {
     "data": {
      "text/plain": [
       "[4086, 10954, 32143, 4813, 0, 0]"
      ]
     },
     "execution_count": 31,
     "metadata": {},
     "output_type": "execute_result"
    }
   ],
   "source": [
    "n_obs"
   ]
  },
  {
   "cell_type": "code",
   "execution_count": 32,
   "metadata": {},
   "outputs": [
    {
     "data": {
      "image/png": "[encoded data removed]",
      "text/plain": [
       "<Figure size 1200x780 with 2 Axes>"
      ]
     },
     "metadata": {},
     "output_type": "display_data"
    }
   ],
   "source": [
    "fig, ax = plt.subplots(2,1, figsize=(20*.6,13*.6), gridspec_kw={'height_ratios': [4.5, 1]})\n",
    "#ax2 = ax.twinx()\n",
    "\n",
    "#x_axis = np.array(np.array([bins[1:], bins[:-1]]).mean(axis=0))\n",
    "x_axis = np.array(bins)\n",
    "\n",
    "ax[0].step(x_axis,  [binned_r2s_rcf[0]]+binned_r2s_rcf, label = \"MOSAIKS\", color = cmap(norm(1)), linewidth=3)\n",
    "ax[0].step(x_axis,  [binned_r2s_nl[0]]+binned_r2s_nl,  label = \"NL\", color = cmap(norm(2)), linewidth=3)\n",
    "ax[0].step(x_axis,  [binned_r2s_rcf_and_nl[0]]+ binned_r2s_rcf_and_nl, label = \"MOSAIKS + NL\", color = cmap(norm(2.5)), linewidth=3)\n",
    "\n",
    "\n",
    "\n",
    "ax[0].legend()\n",
    "ax[0].set_ylabel(\"Within-province $R^{2}$\")\n",
    "ax[0].set_xlabel(\"Country-level HDI\")\n",
    "#ax.set_title(\"Demeaned $R^2$ performance by HDI bin\")\n",
    "ax[0].set_ylim(0,0.65)\n",
    "ax[0].xaxis.set_visible(False)\n",
    "\n",
    "ax[1].bar( bins[:-1], height = n_obs,width= np.array(bins[1:])-np.array(bins[:-1]), color=\"gray\", alpha=0.4, align=\"edge\")\n",
    "ax[1].set_ylabel(\"Num DHS obs\")\n",
    "ax[1].set_xlabel(\"Country-level HDI\")\n",
    "\n",
    "#ax[0].set_title(\"IWI at DHS cluster level  \\n Within-ADM1 performance\")\n",
    "\n",
    "fig.savefig(data_dir + \"figures/dhs_iwi_binned_by_hdi.pdf\", dpi=300)\n"
   ]
  },
  {
   "cell_type": "code",
   "execution_count": 33,
   "metadata": {},
   "outputs": [],
   "source": [
    "import statsmodels.api as sm"
   ]
  },
  {
   "cell_type": "code",
   "execution_count": 34,
   "metadata": {},
   "outputs": [
    {
     "data": {
      "text/html": [
       "<table class=\"simpletable\">\n",
       "<caption>OLS Regression Results</caption>\n",
       "<tr>\n",
       "  <th>Dep. Variable:</th>         <td>pearson</td>     <th>  R-squared (uncentered):</th>      <td>   0.700</td>\n",
       "</tr>\n",
       "<tr>\n",
       "  <th>Model:</th>                   <td>OLS</td>       <th>  Adj. R-squared (uncentered):</th> <td>   0.698</td>\n",
       "</tr>\n",
       "<tr>\n",
       "  <th>Method:</th>             <td>Least Squares</td>  <th>  F-statistic:       </th>          <td>   363.2</td>\n",
       "</tr>\n",
       "<tr>\n",
       "  <th>Date:</th>             <td>Fri, 10 Feb 2023</td> <th>  Prob (F-statistic):</th>          <td>1.40e-42</td>\n",
       "</tr>\n",
       "<tr>\n",
       "  <th>Time:</th>                 <td>10:25:36</td>     <th>  Log-Likelihood:    </th>          <td> -44.597</td>\n",
       "</tr>\n",
       "<tr>\n",
       "  <th>No. Observations:</th>      <td>   157</td>      <th>  AIC:               </th>          <td>   91.19</td>\n",
       "</tr>\n",
       "<tr>\n",
       "  <th>Df Residuals:</th>          <td>   156</td>      <th>  BIC:               </th>          <td>   94.25</td>\n",
       "</tr>\n",
       "<tr>\n",
       "  <th>Df Model:</th>              <td>     1</td>      <th>                     </th>              <td> </td>   \n",
       "</tr>\n",
       "<tr>\n",
       "  <th>Covariance Type:</th>      <td>nonrobust</td>    <th>                     </th>              <td> </td>   \n",
       "</tr>\n",
       "</table>\n",
       "<table class=\"simpletable\">\n",
       "<tr>\n",
       "   <td></td>     <th>coef</th>     <th>std err</th>      <th>t</th>      <th>P>|t|</th>  <th>[0.025</th>    <th>0.975]</th>  \n",
       "</tr>\n",
       "<tr>\n",
       "  <th>sd</th> <td>   11.6956</td> <td>    0.614</td> <td>   19.059</td> <td> 0.000</td> <td>   10.483</td> <td>   12.908</td>\n",
       "</tr>\n",
       "</table>\n",
       "<table class=\"simpletable\">\n",
       "<tr>\n",
       "  <th>Omnibus:</th>       <td> 1.051</td> <th>  Durbin-Watson:     </th> <td>   1.863</td>\n",
       "</tr>\n",
       "<tr>\n",
       "  <th>Prob(Omnibus):</th> <td> 0.591</td> <th>  Jarque-Bera (JB):  </th> <td>   1.110</td>\n",
       "</tr>\n",
       "<tr>\n",
       "  <th>Skew:</th>          <td>-0.190</td> <th>  Prob(JB):          </th> <td>   0.574</td>\n",
       "</tr>\n",
       "<tr>\n",
       "  <th>Kurtosis:</th>      <td> 2.842</td> <th>  Cond. No.          </th> <td>    1.00</td>\n",
       "</tr>\n",
       "</table><br/><br/>Notes:<br/>[1] R² is computed without centering (uncentered) since the model does not contain a constant.<br/>[2] Standard Errors assume that the covariance matrix of the errors is correctly specified."
      ],
      "text/plain": [
       "<class 'statsmodels.iolib.summary.Summary'>\n",
       "\"\"\"\n",
       "                                 OLS Regression Results                                \n",
       "=======================================================================================\n",
       "Dep. Variable:                pearson   R-squared (uncentered):                   0.700\n",
       "Model:                            OLS   Adj. R-squared (uncentered):              0.698\n",
       "Method:                 Least Squares   F-statistic:                              363.2\n",
       "Date:                Fri, 10 Feb 2023   Prob (F-statistic):                    1.40e-42\n",
       "Time:                        10:25:36   Log-Likelihood:                         -44.597\n",
       "No. Observations:                 157   AIC:                                      91.19\n",
       "Df Residuals:                     156   BIC:                                      94.25\n",
       "Df Model:                           1                                                  \n",
       "Covariance Type:            nonrobust                                                  \n",
       "==============================================================================\n",
       "                 coef    std err          t      P>|t|      [0.025      0.975]\n",
       "------------------------------------------------------------------------------\n",
       "sd            11.6956      0.614     19.059      0.000      10.483      12.908\n",
       "==============================================================================\n",
       "Omnibus:                        1.051   Durbin-Watson:                   1.863\n",
       "Prob(Omnibus):                  0.591   Jarque-Bera (JB):                1.110\n",
       "Skew:                          -0.190   Prob(JB):                        0.574\n",
       "Kurtosis:                       2.842   Cond. No.                         1.00\n",
       "==============================================================================\n",
       "\n",
       "Notes:\n",
       "[1] R² is computed without centering (uncentered) since the model does not contain a constant.\n",
       "[2] Standard Errors assume that the covariance matrix of the errors is correctly specified.\n",
       "\"\"\""
      ]
     },
     "execution_count": 34,
     "metadata": {},
     "output_type": "execute_result"
    }
   ],
   "source": [
    "sm.OLS(metrics[\"pearson\"]**2,metrics[\"sd\"]).fit().summary()"
   ]
  },
  {
   "cell_type": "code",
   "execution_count": 35,
   "metadata": {},
   "outputs": [
    {
     "data": {
      "text/html": [
       "<table class=\"simpletable\">\n",
       "<caption>OLS Regression Results</caption>\n",
       "<tr>\n",
       "  <th>Dep. Variable:</th>         <td>pearson</td>     <th>  R-squared (uncentered):</th>      <td>   0.700</td>\n",
       "</tr>\n",
       "<tr>\n",
       "  <th>Model:</th>                   <td>OLS</td>       <th>  Adj. R-squared (uncentered):</th> <td>   0.698</td>\n",
       "</tr>\n",
       "<tr>\n",
       "  <th>Method:</th>             <td>Least Squares</td>  <th>  F-statistic:       </th>          <td>   363.2</td>\n",
       "</tr>\n",
       "<tr>\n",
       "  <th>Date:</th>             <td>Fri, 10 Feb 2023</td> <th>  Prob (F-statistic):</th>          <td>1.40e-42</td>\n",
       "</tr>\n",
       "<tr>\n",
       "  <th>Time:</th>                 <td>10:25:36</td>     <th>  Log-Likelihood:    </th>          <td> -44.597</td>\n",
       "</tr>\n",
       "<tr>\n",
       "  <th>No. Observations:</th>      <td>   157</td>      <th>  AIC:               </th>          <td>   91.19</td>\n",
       "</tr>\n",
       "<tr>\n",
       "  <th>Df Residuals:</th>          <td>   156</td>      <th>  BIC:               </th>          <td>   94.25</td>\n",
       "</tr>\n",
       "<tr>\n",
       "  <th>Df Model:</th>              <td>     1</td>      <th>                     </th>              <td> </td>   \n",
       "</tr>\n",
       "<tr>\n",
       "  <th>Covariance Type:</th>      <td>nonrobust</td>    <th>                     </th>              <td> </td>   \n",
       "</tr>\n",
       "</table>\n",
       "<table class=\"simpletable\">\n",
       "<tr>\n",
       "   <td></td>     <th>coef</th>     <th>std err</th>      <th>t</th>      <th>P>|t|</th>  <th>[0.025</th>    <th>0.975]</th>  \n",
       "</tr>\n",
       "<tr>\n",
       "  <th>sd</th> <td>   11.6956</td> <td>    0.614</td> <td>   19.059</td> <td> 0.000</td> <td>   10.483</td> <td>   12.908</td>\n",
       "</tr>\n",
       "</table>\n",
       "<table class=\"simpletable\">\n",
       "<tr>\n",
       "  <th>Omnibus:</th>       <td> 1.051</td> <th>  Durbin-Watson:     </th> <td>   1.863</td>\n",
       "</tr>\n",
       "<tr>\n",
       "  <th>Prob(Omnibus):</th> <td> 0.591</td> <th>  Jarque-Bera (JB):  </th> <td>   1.110</td>\n",
       "</tr>\n",
       "<tr>\n",
       "  <th>Skew:</th>          <td>-0.190</td> <th>  Prob(JB):          </th> <td>   0.574</td>\n",
       "</tr>\n",
       "<tr>\n",
       "  <th>Kurtosis:</th>      <td> 2.842</td> <th>  Cond. No.          </th> <td>    1.00</td>\n",
       "</tr>\n",
       "</table><br/><br/>Notes:<br/>[1] R² is computed without centering (uncentered) since the model does not contain a constant.<br/>[2] Standard Errors assume that the covariance matrix of the errors is correctly specified."
      ],
      "text/plain": [
       "<class 'statsmodels.iolib.summary.Summary'>\n",
       "\"\"\"\n",
       "                                 OLS Regression Results                                \n",
       "=======================================================================================\n",
       "Dep. Variable:                pearson   R-squared (uncentered):                   0.700\n",
       "Model:                            OLS   Adj. R-squared (uncentered):              0.698\n",
       "Method:                 Least Squares   F-statistic:                              363.2\n",
       "Date:                Fri, 10 Feb 2023   Prob (F-statistic):                    1.40e-42\n",
       "Time:                        10:25:36   Log-Likelihood:                         -44.597\n",
       "No. Observations:                 157   AIC:                                      91.19\n",
       "Df Residuals:                     156   BIC:                                      94.25\n",
       "Df Model:                           1                                                  \n",
       "Covariance Type:            nonrobust                                                  \n",
       "==============================================================================\n",
       "                 coef    std err          t      P>|t|      [0.025      0.975]\n",
       "------------------------------------------------------------------------------\n",
       "sd            11.6956      0.614     19.059      0.000      10.483      12.908\n",
       "==============================================================================\n",
       "Omnibus:                        1.051   Durbin-Watson:                   1.863\n",
       "Prob(Omnibus):                  0.591   Jarque-Bera (JB):                1.110\n",
       "Skew:                          -0.190   Prob(JB):                        0.574\n",
       "Kurtosis:                       2.842   Cond. No.                         1.00\n",
       "==============================================================================\n",
       "\n",
       "Notes:\n",
       "[1] R² is computed without centering (uncentered) since the model does not contain a constant.\n",
       "[2] Standard Errors assume that the covariance matrix of the errors is correctly specified.\n",
       "\"\"\""
      ]
     },
     "execution_count": 35,
     "metadata": {},
     "output_type": "execute_result"
    }
   ],
   "source": [
    "sm.OLS(metrics[\"pearson\"]**2,metrics[\"sd\"]).fit().summary()"
   ]
  },
  {
   "cell_type": "code",
   "execution_count": 36,
   "metadata": {},
   "outputs": [
    {
     "data": {
      "text/plain": [
       "array([[1.        , 0.12333394],\n",
       "       [0.12333394, 1.        ]])"
      ]
     },
     "execution_count": 36,
     "metadata": {},
     "output_type": "execute_result"
    }
   ],
   "source": [
    "np.corrcoef(metrics[\"pearson\"],metrics[\"sd\"]) ** 2"
   ]
  },
  {
   "cell_type": "code",
   "execution_count": 37,
   "metadata": {},
   "outputs": [
    {
     "data": {
      "text/plain": [
       "array([[1.        , 0.09149181],\n",
       "       [0.09149181, 1.        ]])"
      ]
     },
     "execution_count": 37,
     "metadata": {},
     "output_type": "execute_result"
    }
   ],
   "source": [
    "np.corrcoef(metrics[\"pearson\"]**2,metrics[\"sd\"]) **2"
   ]
  },
  {
   "cell_type": "code",
   "execution_count": 45,
   "metadata": {},
   "outputs": [],
   "source": [
    "dhs_metrics = pd.DataFrame([pearson_perf,within_adm1_sd]).T.rename(columns = {0:\"p\",1:\"sd\"})"
   ]
  },
  {
   "cell_type": "code",
   "execution_count": 48,
   "metadata": {},
   "outputs": [
    {
     "data": {
      "text/plain": [
       "array([[1.        , 0.48318818],\n",
       "       [0.48318818, 1.        ]])"
      ]
     },
     "execution_count": 48,
     "metadata": {},
     "output_type": "execute_result"
    }
   ],
   "source": [
    "np.corrcoef(dhs_metrics[\"p\"]**2,dhs_metrics[\"sd\"])"
   ]
  },
  {
   "cell_type": "code",
   "execution_count": 50,
   "metadata": {},
   "outputs": [
    {
     "data": {
      "text/html": [
       "<table class=\"simpletable\">\n",
       "<caption>OLS Regression Results</caption>\n",
       "<tr>\n",
       "  <th>Dep. Variable:</th>            <td>p</td>        <th>  R-squared (uncentered):</th>      <td>   0.906</td>\n",
       "</tr>\n",
       "<tr>\n",
       "  <th>Model:</th>                   <td>OLS</td>       <th>  Adj. R-squared (uncentered):</th> <td>   0.904</td>\n",
       "</tr>\n",
       "<tr>\n",
       "  <th>Method:</th>             <td>Least Squares</td>  <th>  F-statistic:       </th>          <td>   368.0</td>\n",
       "</tr>\n",
       "<tr>\n",
       "  <th>Date:</th>             <td>Fri, 10 Feb 2023</td> <th>  Prob (F-statistic):</th>          <td>3.83e-21</td>\n",
       "</tr>\n",
       "<tr>\n",
       "  <th>Time:</th>                 <td>10:31:37</td>     <th>  Log-Likelihood:    </th>          <td>  22.770</td>\n",
       "</tr>\n",
       "<tr>\n",
       "  <th>No. Observations:</th>      <td>    39</td>      <th>  AIC:               </th>          <td>  -43.54</td>\n",
       "</tr>\n",
       "<tr>\n",
       "  <th>Df Residuals:</th>          <td>    38</td>      <th>  BIC:               </th>          <td>  -41.88</td>\n",
       "</tr>\n",
       "<tr>\n",
       "  <th>Df Model:</th>              <td>     1</td>      <th>                     </th>              <td> </td>   \n",
       "</tr>\n",
       "<tr>\n",
       "  <th>Covariance Type:</th>      <td>nonrobust</td>    <th>                     </th>              <td> </td>   \n",
       "</tr>\n",
       "</table>\n",
       "<table class=\"simpletable\">\n",
       "<tr>\n",
       "   <td></td>     <th>coef</th>     <th>std err</th>      <th>t</th>      <th>P>|t|</th>  <th>[0.025</th>    <th>0.975]</th>  \n",
       "</tr>\n",
       "<tr>\n",
       "  <th>sd</th> <td>    0.0312</td> <td>    0.002</td> <td>   19.184</td> <td> 0.000</td> <td>    0.028</td> <td>    0.035</td>\n",
       "</tr>\n",
       "</table>\n",
       "<table class=\"simpletable\">\n",
       "<tr>\n",
       "  <th>Omnibus:</th>       <td>29.091</td> <th>  Durbin-Watson:     </th> <td>   1.765</td>\n",
       "</tr>\n",
       "<tr>\n",
       "  <th>Prob(Omnibus):</th> <td> 0.000</td> <th>  Jarque-Bera (JB):  </th> <td>  58.423</td>\n",
       "</tr>\n",
       "<tr>\n",
       "  <th>Skew:</th>          <td>-1.971</td> <th>  Prob(JB):          </th> <td>2.06e-13</td>\n",
       "</tr>\n",
       "<tr>\n",
       "  <th>Kurtosis:</th>      <td> 7.518</td> <th>  Cond. No.          </th> <td>    1.00</td>\n",
       "</tr>\n",
       "</table><br/><br/>Notes:<br/>[1] R² is computed without centering (uncentered) since the model does not contain a constant.<br/>[2] Standard Errors assume that the covariance matrix of the errors is correctly specified."
      ],
      "text/plain": [
       "<class 'statsmodels.iolib.summary.Summary'>\n",
       "\"\"\"\n",
       "                                 OLS Regression Results                                \n",
       "=======================================================================================\n",
       "Dep. Variable:                      p   R-squared (uncentered):                   0.906\n",
       "Model:                            OLS   Adj. R-squared (uncentered):              0.904\n",
       "Method:                 Least Squares   F-statistic:                              368.0\n",
       "Date:                Fri, 10 Feb 2023   Prob (F-statistic):                    3.83e-21\n",
       "Time:                        10:31:37   Log-Likelihood:                          22.770\n",
       "No. Observations:                  39   AIC:                                     -43.54\n",
       "Df Residuals:                      38   BIC:                                     -41.88\n",
       "Df Model:                           1                                                  \n",
       "Covariance Type:            nonrobust                                                  \n",
       "==============================================================================\n",
       "                 coef    std err          t      P>|t|      [0.025      0.975]\n",
       "------------------------------------------------------------------------------\n",
       "sd             0.0312      0.002     19.184      0.000       0.028       0.035\n",
       "==============================================================================\n",
       "Omnibus:                       29.091   Durbin-Watson:                   1.765\n",
       "Prob(Omnibus):                  0.000   Jarque-Bera (JB):               58.423\n",
       "Skew:                          -1.971   Prob(JB):                     2.06e-13\n",
       "Kurtosis:                       7.518   Cond. No.                         1.00\n",
       "==============================================================================\n",
       "\n",
       "Notes:\n",
       "[1] R² is computed without centering (uncentered) since the model does not contain a constant.\n",
       "[2] Standard Errors assume that the covariance matrix of the errors is correctly specified.\n",
       "\"\"\""
      ]
     },
     "execution_count": 50,
     "metadata": {},
     "output_type": "execute_result"
    }
   ],
   "source": [
    "sm.OLS(dhs_metrics[\"p\"]**2,dhs_metrics[\"sd\"]).fit().summary()"
   ]
  },
  {
   "cell_type": "code",
   "execution_count": null,
   "metadata": {},
   "outputs": [],
   "source": [
    "10."
   ]
  }
 ],
 "metadata": {
  "kernelspec": {
   "display_name": "Python 3 (ipykernel)",
   "language": "python",
   "name": "python3"
  },
  "language_info": {
   "codemirror_mode": {
    "name": "ipython",
    "version": 3
   },
   "file_extension": ".py",
   "mimetype": "text/x-python",
   "name": "python",
   "nbconvert_exporter": "python",
   "pygments_lexer": "ipython3",
   "version": "3.7.15"
  }
 },
 "nbformat": 4,
 "nbformat_minor": 4
}
